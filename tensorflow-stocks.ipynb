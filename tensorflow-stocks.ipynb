{
 "cells": [
  {
   "cell_type": "code",
   "execution_count": 1,
   "metadata": {
    "collapsed": false
   },
   "outputs": [
    {
     "data": {
      "application/javascript": [
       "$.getScript('https://kmahelona.github.io/ipython_notebook_goodies/ipython_notebook_toc.js')"
      ],
      "text/plain": [
       "<IPython.core.display.Javascript object>"
      ]
     },
     "metadata": {},
     "output_type": "display_data"
    }
   ],
   "source": [
    "%%javascript\n",
    "$.getScript('https://kmahelona.github.io/ipython_notebook_goodies/ipython_notebook_toc.js')"
   ]
  },
  {
   "cell_type": "markdown",
   "metadata": {},
   "source": [
    "<h1 id=\"tocheading\">Table of Contents</h1>\n",
    "<div id=\"toc\"></div>\n"
   ]
  },
  {
   "cell_type": "markdown",
   "metadata": {},
   "source": [
    "# Intro"
   ]
  },
  {
   "cell_type": "markdown",
   "metadata": {},
   "source": [
    "I recently published a post about applying [deep learning to the stock market](https://medium.com/@TalPerry/deep-learning-the-stock-market-df853d139e02#.e33ao345g). This Notebook is an initial sketch of the implementation. People approach the market to make money, and I am no exception, so it may come as some suprise that I am giving this away. In fact, I don't think this implementation does make money. But it does illustrate a variety of concepts that are important for data science, deep learning and the application of both to finance. I learnt almost everything I know from tutorials like this one on the internet, and I hope someone will learn a thing or two from this"
   ]
  },
  {
   "cell_type": "markdown",
   "metadata": {},
   "source": [
    "## What's in this thing?\n",
    "\n",
    "This notebook goes through the full the process of implementing the ideas I layed out in the post. That is it covers\n",
    "* Preparing the data\n",
    "* Building a baseline\n",
    "* Implementing a DL model\n",
    "\n",
    "## A (more or less) standard data science work flow\n",
    "\n",
    "### Defining the problem you want to solve\n",
    "I think all three of those stages are important, and in many respects they are ordered by both importance and the order in which I approach them. My first step in this process was writing that post (4.5K words) explaining in relatively simple terms what I want to do and why. \n",
    "\n",
    "### Collecting data\n",
    "The next stage was collecting data, this actually took me a while and I ended up going with a freely availble dataset you can download [here](https://quantquote.com/historical-stock-data). \n",
    "\n",
    "### Reconciling the problem and the data\n",
    "Once I had an idea of what problem I wanted to solve and I had some data I went about getting the data into a shape  I could work with. \n",
    "\n",
    "### Making a baseline\n",
    "Next I built a baseline model. A baseline doesn't need to be good, but it needs to be something you can compare your actual model to, so that you can know if all the fancy complicated things you did are any better than something simple. This is also a good point to choose how to measure your models performance.\n",
    "\n",
    "### Testing the idea\n",
    "I ended up bulding to baselines. One is a simple logistic regression and the other is a 3 layer feed forward network, or if you like big words, a multi layer perceptron. I made the first because I wanted a baseline and the second because I wanted to see if the additional complexity and computation cost of an RNN added benefit over a simpler network"
   ]
  },
  {
   "cell_type": "markdown",
   "metadata": {},
   "source": [
    "# Data Prepaparation\n",
    "Maybe its different for the more fortunate but in my experience 80% of the work in data science is data engineering. If I had to break that down even more it would be 20% \"science\", 20% engineering and 60% finding the right, clean data. \n",
    "For the project at hand I wanted a lot of data for many stocks. My \"production\" version uses slightly different data but for the POC using 10 years of the S&P was enough to prover my point.\n",
    "\n",
    "In case you missed it, the S&P500 is an index of 500 stocks that is updated once every 3 months. For POC purposes using daily data is sufficient and I ended up finding a free data set [here](https://quantquote.com/historical-stock-data). You can download it and point the *datapath* variable to point at it and runs this notebook yourself\n",
    "This notebook explores the data, joins all the stocks and creates targets\n"
   ]
  },
  {
   "cell_type": "markdown",
   "metadata": {},
   "source": [
    "## preliminaries\n",
    "So first we need to import some libraries and define some helper functions\n",
    "* **get_ticker** applies a regex to the filename we are looking at and extracts the ticker from it\n",
    "* **ret calculates** to log return between two points. Returns should be observed in log space because\n",
    "    * Returns are log-normally distributed so log returns are follow a normal distribution\n",
    "    * You can some log returns instead of taking products which makes life easier\n",
    "* **zscore** maps a pandas series to it's zscore. In other words, it makes it have mean 0 and variance 1\n",
    "    * It's good to have variablised normalized like this as it makes all of the dimensions of your data behave the same\n",
    "    * It doesn't make sense to apply a z-score to distributions that don't (more or less) folllow the normal distribution. So check your variables first and if they don't follow a normal distribution transform them so that they do are use other scaling methods"
   ]
  },
  {
   "cell_type": "code",
   "execution_count": 2,
   "metadata": {
    "collapsed": false
   },
   "outputs": [
    {
     "name": "stdout",
     "output_type": "stream",
     "text": [
      "Populating the interactive namespace from numpy and matplotlib\n"
     ]
    }
   ],
   "source": [
    "import pandas as pd\n",
    "import os\n",
    "%pylab inline"
   ]
  },
  {
   "cell_type": "code",
   "execution_count": 3,
   "metadata": {
    "collapsed": false
   },
   "outputs": [],
   "source": [
    "datapath = './daily'\n",
    "filepath = os.path.join(datapath,os.listdir('./daily')[0])"
   ]
  },
  {
   "cell_type": "code",
   "execution_count": 4,
   "metadata": {
    "collapsed": false
   },
   "outputs": [
    {
     "name": "stdout",
     "output_type": "stream",
     "text": [
      "./daily/table_a.csv a\n"
     ]
    }
   ],
   "source": [
    "import re\n",
    "ticker_regex = re.compile('.+_(?P<ticker>.+)\\.csv')\n",
    "get_ticker =lambda x :ticker_regex.match(x).groupdict()['ticker']\n",
    "print(filepath,get_ticker(filepath))"
   ]
  },
  {
   "cell_type": "code",
   "execution_count": 5,
   "metadata": {
    "collapsed": true
   },
   "outputs": [],
   "source": [
    "ret = lambda x,y: log(y/x) #Log return \n",
    "zscore = lambda x:(x -x.mean())/x.std() # zscore"
   ]
  },
  {
   "cell_type": "markdown",
   "metadata": {},
   "source": [
    "## First peak at the data\n",
    "I blah blahed alot without actually looking at the data. lets load it. I use the pandas library to rad a single CSV. Since the data had no column headers I specified them. I don't know what the first column is so I labeled it UNK.\n",
    "Notice that the index, which is the real first column in the original data, is a date but in a string pandas didn't understand. We're going to parse it to a datetime object later so that pandas preserves the right order. "
   ]
  },
  {
   "cell_type": "code",
   "execution_count": 6,
   "metadata": {
    "collapsed": false
   },
   "outputs": [],
   "source": [
    "D = pd.read_csv(filepath,header=None,names=['UNK','o','h','l','c','v']) #Load the dataframe with headers"
   ]
  },
  {
   "cell_type": "code",
   "execution_count": 7,
   "metadata": {
    "collapsed": false
   },
   "outputs": [
    {
     "data": {
      "text/html": [
       "<div>\n",
       "<table border=\"1\" class=\"dataframe\">\n",
       "  <thead>\n",
       "    <tr style=\"text-align: right;\">\n",
       "      <th></th>\n",
       "      <th>UNK</th>\n",
       "      <th>o</th>\n",
       "      <th>h</th>\n",
       "      <th>l</th>\n",
       "      <th>c</th>\n",
       "      <th>v</th>\n",
       "    </tr>\n",
       "  </thead>\n",
       "  <tbody>\n",
       "    <tr>\n",
       "      <th>19991118</th>\n",
       "      <td>0</td>\n",
       "      <td>42.2076</td>\n",
       "      <td>46.3820</td>\n",
       "      <td>37.4581</td>\n",
       "      <td>39.1928</td>\n",
       "      <td>4.398181e+07</td>\n",
       "    </tr>\n",
       "    <tr>\n",
       "      <th>19991119</th>\n",
       "      <td>0</td>\n",
       "      <td>39.8329</td>\n",
       "      <td>39.8885</td>\n",
       "      <td>36.9293</td>\n",
       "      <td>37.6251</td>\n",
       "      <td>1.139020e+07</td>\n",
       "    </tr>\n",
       "    <tr>\n",
       "      <th>19991122</th>\n",
       "      <td>0</td>\n",
       "      <td>38.3208</td>\n",
       "      <td>40.0091</td>\n",
       "      <td>37.1613</td>\n",
       "      <td>39.9442</td>\n",
       "      <td>4.654716e+06</td>\n",
       "    </tr>\n",
       "    <tr>\n",
       "      <th>19991123</th>\n",
       "      <td>0</td>\n",
       "      <td>39.4247</td>\n",
       "      <td>40.4729</td>\n",
       "      <td>37.3375</td>\n",
       "      <td>37.5138</td>\n",
       "      <td>4.268903e+06</td>\n",
       "    </tr>\n",
       "    <tr>\n",
       "      <th>19991124</th>\n",
       "      <td>0</td>\n",
       "      <td>37.2262</td>\n",
       "      <td>38.9052</td>\n",
       "      <td>37.1056</td>\n",
       "      <td>38.0889</td>\n",
       "      <td>3.602367e+06</td>\n",
       "    </tr>\n",
       "  </tbody>\n",
       "</table>\n",
       "</div>"
      ],
      "text/plain": [
       "          UNK        o        h        l        c             v\n",
       "19991118    0  42.2076  46.3820  37.4581  39.1928  4.398181e+07\n",
       "19991119    0  39.8329  39.8885  36.9293  37.6251  1.139020e+07\n",
       "19991122    0  38.3208  40.0091  37.1613  39.9442  4.654716e+06\n",
       "19991123    0  39.4247  40.4729  37.3375  37.5138  4.268903e+06\n",
       "19991124    0  37.2262  38.9052  37.1056  38.0889  3.602367e+06"
      ]
     },
     "execution_count": 7,
     "metadata": {},
     "output_type": "execute_result"
    }
   ],
   "source": [
    "D.head() #Lets peack at it"
   ]
  },
  {
   "cell_type": "markdown",
   "metadata": {},
   "source": [
    "## Extracting Relevant Data\n",
    "We don't care about prices, just about their fluctations. So we'll give the log return of the various prices, and take a zscore so everything is nice. \n",
    "Also, extract the ticker from the file name and add it to the df as a column.\n"
   ]
  },
  {
   "cell_type": "code",
   "execution_count": 8,
   "metadata": {
    "collapsed": false
   },
   "outputs": [],
   "source": [
    "def make_inputs(filepath):\n",
    "    D = pd.read_csv(filepath,header=None,names=['UNK','o','h','l','c','v']) #Load the dataframe with headers\n",
    "    D.index = pd.to_datetime(D.index,format='%Y%m%d') # Set the indix to a datetime\n",
    "    Res = pd.DataFrame()\n",
    "    ticker = get_ticker(filepath)\n",
    "\n",
    "    Res['c_2_o'] = zscore(ret(D.o,D.c))\n",
    "    Res['h_2_o'] = zscore(ret(D.o,D.h))\n",
    "    Res['l_2_o'] = zscore(ret(D.o,D.l))\n",
    "    Res['c_2_h'] = zscore(ret(D.h,D.c))\n",
    "    Res['h_2_l'] = zscore(ret(D.h,D.l))\n",
    "    Res['c1_c0'] = ret(D.c,D.c.shift(-1)).fillna(0) #Tommorows return \n",
    "    Res['vol'] = zscore(D.v)\n",
    "    Res['ticker'] = ticker\n",
    "    return Res\n",
    "Res = make_inputs(filepath)"
   ]
  },
  {
   "cell_type": "code",
   "execution_count": 9,
   "metadata": {
    "collapsed": false
   },
   "outputs": [
    {
     "data": {
      "text/html": [
       "<div>\n",
       "<table border=\"1\" class=\"dataframe\">\n",
       "  <thead>\n",
       "    <tr style=\"text-align: right;\">\n",
       "      <th></th>\n",
       "      <th>c_2_o</th>\n",
       "      <th>h_2_o</th>\n",
       "      <th>l_2_o</th>\n",
       "      <th>c_2_h</th>\n",
       "      <th>h_2_l</th>\n",
       "      <th>c1_c0</th>\n",
       "      <th>vol</th>\n",
       "      <th>ticker</th>\n",
       "    </tr>\n",
       "  </thead>\n",
       "  <tbody>\n",
       "    <tr>\n",
       "      <th>1999-11-18</th>\n",
       "      <td>-2.875906</td>\n",
       "      <td>3.942736</td>\n",
       "      <td>-5.176517</td>\n",
       "      <td>-8.313468</td>\n",
       "      <td>-7.250098</td>\n",
       "      <td>-0.040822</td>\n",
       "      <td>22.437430</td>\n",
       "      <td>a</td>\n",
       "    </tr>\n",
       "    <tr>\n",
       "      <th>1999-11-19</th>\n",
       "      <td>-2.218402</td>\n",
       "      <td>-0.819624</td>\n",
       "      <td>-2.967516</td>\n",
       "      <td>-2.283408</td>\n",
       "      <td>-1.726542</td>\n",
       "      <td>0.059812</td>\n",
       "      <td>4.609137</td>\n",
       "      <td>a</td>\n",
       "    </tr>\n",
       "    <tr>\n",
       "      <th>1999-11-22</th>\n",
       "      <td>1.572687</td>\n",
       "      <td>1.318667</td>\n",
       "      <td>-0.694121</td>\n",
       "      <td>0.829875</td>\n",
       "      <td>-1.595383</td>\n",
       "      <td>-0.062775</td>\n",
       "      <td>0.924687</td>\n",
       "      <td>a</td>\n",
       "    </tr>\n",
       "    <tr>\n",
       "      <th>1999-11-23</th>\n",
       "      <td>-1.936005</td>\n",
       "      <td>0.453801</td>\n",
       "      <td>-1.890881</td>\n",
       "      <td>-3.243109</td>\n",
       "      <td>-1.870150</td>\n",
       "      <td>0.015214</td>\n",
       "      <td>0.713638</td>\n",
       "      <td>a</td>\n",
       "    </tr>\n",
       "    <tr>\n",
       "      <th>1999-11-24</th>\n",
       "      <td>0.857645</td>\n",
       "      <td>1.369972</td>\n",
       "      <td>0.695310</td>\n",
       "      <td>-0.243544</td>\n",
       "      <td>-0.524722</td>\n",
       "      <td>0.003161</td>\n",
       "      <td>0.349030</td>\n",
       "      <td>a</td>\n",
       "    </tr>\n",
       "  </tbody>\n",
       "</table>\n",
       "</div>"
      ],
      "text/plain": [
       "               c_2_o     h_2_o     l_2_o     c_2_h     h_2_l     c1_c0  \\\n",
       "1999-11-18 -2.875906  3.942736 -5.176517 -8.313468 -7.250098 -0.040822   \n",
       "1999-11-19 -2.218402 -0.819624 -2.967516 -2.283408 -1.726542  0.059812   \n",
       "1999-11-22  1.572687  1.318667 -0.694121  0.829875 -1.595383 -0.062775   \n",
       "1999-11-23 -1.936005  0.453801 -1.890881 -3.243109 -1.870150  0.015214   \n",
       "1999-11-24  0.857645  1.369972  0.695310 -0.243544 -0.524722  0.003161   \n",
       "\n",
       "                  vol ticker  \n",
       "1999-11-18  22.437430      a  \n",
       "1999-11-19   4.609137      a  \n",
       "1999-11-22   0.924687      a  \n",
       "1999-11-23   0.713638      a  \n",
       "1999-11-24   0.349030      a  "
      ]
     },
     "execution_count": 9,
     "metadata": {},
     "output_type": "execute_result"
    }
   ],
   "source": [
    "Res.head() # Lets look at what we got"
   ]
  },
  {
   "cell_type": "code",
   "execution_count": 10,
   "metadata": {
    "collapsed": false
   },
   "outputs": [
    {
     "data": {
      "text/html": [
       "<div>\n",
       "<table border=\"1\" class=\"dataframe\">\n",
       "  <thead>\n",
       "    <tr style=\"text-align: right;\">\n",
       "      <th></th>\n",
       "      <th>c_2_o</th>\n",
       "      <th>h_2_o</th>\n",
       "      <th>l_2_o</th>\n",
       "      <th>c_2_h</th>\n",
       "      <th>h_2_l</th>\n",
       "      <th>c1_c0</th>\n",
       "      <th>vol</th>\n",
       "    </tr>\n",
       "  </thead>\n",
       "  <tbody>\n",
       "    <tr>\n",
       "      <th>c_2_o</th>\n",
       "      <td>1.000000</td>\n",
       "      <td>0.713152</td>\n",
       "      <td>0.699395</td>\n",
       "      <td>0.661722</td>\n",
       "      <td>-0.003292</td>\n",
       "      <td>0.046037</td>\n",
       "      <td>-0.048971</td>\n",
       "    </tr>\n",
       "    <tr>\n",
       "      <th>h_2_o</th>\n",
       "      <td>0.713152</td>\n",
       "      <td>1.000000</td>\n",
       "      <td>0.207554</td>\n",
       "      <td>-0.053673</td>\n",
       "      <td>-0.622913</td>\n",
       "      <td>0.018455</td>\n",
       "      <td>0.172745</td>\n",
       "    </tr>\n",
       "    <tr>\n",
       "      <th>l_2_o</th>\n",
       "      <td>0.699395</td>\n",
       "      <td>0.207554</td>\n",
       "      <td>1.000000</td>\n",
       "      <td>0.774273</td>\n",
       "      <td>0.635967</td>\n",
       "      <td>0.063724</td>\n",
       "      <td>-0.218147</td>\n",
       "    </tr>\n",
       "    <tr>\n",
       "      <th>c_2_h</th>\n",
       "      <td>0.661722</td>\n",
       "      <td>-0.053673</td>\n",
       "      <td>0.774273</td>\n",
       "      <td>1.000000</td>\n",
       "      <td>0.661533</td>\n",
       "      <td>0.045840</td>\n",
       "      <td>-0.254513</td>\n",
       "    </tr>\n",
       "    <tr>\n",
       "      <th>h_2_l</th>\n",
       "      <td>-0.003292</td>\n",
       "      <td>-0.622913</td>\n",
       "      <td>0.635967</td>\n",
       "      <td>0.661533</td>\n",
       "      <td>1.000000</td>\n",
       "      <td>0.036401</td>\n",
       "      <td>-0.310731</td>\n",
       "    </tr>\n",
       "    <tr>\n",
       "      <th>c1_c0</th>\n",
       "      <td>0.046037</td>\n",
       "      <td>0.018455</td>\n",
       "      <td>0.063724</td>\n",
       "      <td>0.045840</td>\n",
       "      <td>0.036401</td>\n",
       "      <td>1.000000</td>\n",
       "      <td>0.003882</td>\n",
       "    </tr>\n",
       "    <tr>\n",
       "      <th>vol</th>\n",
       "      <td>-0.048971</td>\n",
       "      <td>0.172745</td>\n",
       "      <td>-0.218147</td>\n",
       "      <td>-0.254513</td>\n",
       "      <td>-0.310731</td>\n",
       "      <td>0.003882</td>\n",
       "      <td>1.000000</td>\n",
       "    </tr>\n",
       "  </tbody>\n",
       "</table>\n",
       "</div>"
      ],
      "text/plain": [
       "          c_2_o     h_2_o     l_2_o     c_2_h     h_2_l     c1_c0       vol\n",
       "c_2_o  1.000000  0.713152  0.699395  0.661722 -0.003292  0.046037 -0.048971\n",
       "h_2_o  0.713152  1.000000  0.207554 -0.053673 -0.622913  0.018455  0.172745\n",
       "l_2_o  0.699395  0.207554  1.000000  0.774273  0.635967  0.063724 -0.218147\n",
       "c_2_h  0.661722 -0.053673  0.774273  1.000000  0.661533  0.045840 -0.254513\n",
       "h_2_l -0.003292 -0.622913  0.635967  0.661533  1.000000  0.036401 -0.310731\n",
       "c1_c0  0.046037  0.018455  0.063724  0.045840  0.036401  1.000000  0.003882\n",
       "vol   -0.048971  0.172745 -0.218147 -0.254513 -0.310731  0.003882  1.000000"
      ]
     },
     "execution_count": 10,
     "metadata": {},
     "output_type": "execute_result"
    }
   ],
   "source": [
    "Res.corr() #Quick check to see we didn't mess it up. All values should be different, otherwise we repeated a variable"
   ]
  },
  {
   "cell_type": "markdown",
   "metadata": {},
   "source": [
    "## Generating the full data set\n",
    "I'll iterate over each file, run the above and concat to a final df. Then we'll pivot"
   ]
  },
  {
   "cell_type": "code",
   "execution_count": 11,
   "metadata": {
    "collapsed": false
   },
   "outputs": [],
   "source": [
    "Final = pd.DataFrame()\n",
    "for f in os.listdir(datapath):\n",
    "    filepath = os.path.join(datapath,f)\n",
    "    if filepath.endswith('.csv'):\n",
    "        Res = make_inputs(filepath)\n",
    "        Final = Final.append(Res)"
   ]
  },
  {
   "cell_type": "code",
   "execution_count": 12,
   "metadata": {
    "collapsed": false
   },
   "outputs": [
    {
     "data": {
      "text/html": [
       "<div>\n",
       "<table border=\"1\" class=\"dataframe\">\n",
       "  <thead>\n",
       "    <tr style=\"text-align: right;\">\n",
       "      <th></th>\n",
       "      <th>c_2_o</th>\n",
       "      <th>h_2_o</th>\n",
       "      <th>l_2_o</th>\n",
       "      <th>c_2_h</th>\n",
       "      <th>h_2_l</th>\n",
       "      <th>c1_c0</th>\n",
       "      <th>vol</th>\n",
       "      <th>ticker</th>\n",
       "    </tr>\n",
       "  </thead>\n",
       "  <tbody>\n",
       "    <tr>\n",
       "      <th>1999-11-18</th>\n",
       "      <td>-2.875906</td>\n",
       "      <td>3.942736</td>\n",
       "      <td>-5.176517</td>\n",
       "      <td>-8.313468</td>\n",
       "      <td>-7.250098</td>\n",
       "      <td>-0.040822</td>\n",
       "      <td>22.437430</td>\n",
       "      <td>a</td>\n",
       "    </tr>\n",
       "    <tr>\n",
       "      <th>1999-11-19</th>\n",
       "      <td>-2.218402</td>\n",
       "      <td>-0.819624</td>\n",
       "      <td>-2.967516</td>\n",
       "      <td>-2.283408</td>\n",
       "      <td>-1.726542</td>\n",
       "      <td>0.059812</td>\n",
       "      <td>4.609137</td>\n",
       "      <td>a</td>\n",
       "    </tr>\n",
       "    <tr>\n",
       "      <th>1999-11-22</th>\n",
       "      <td>1.572687</td>\n",
       "      <td>1.318667</td>\n",
       "      <td>-0.694121</td>\n",
       "      <td>0.829875</td>\n",
       "      <td>-1.595383</td>\n",
       "      <td>-0.062775</td>\n",
       "      <td>0.924687</td>\n",
       "      <td>a</td>\n",
       "    </tr>\n",
       "    <tr>\n",
       "      <th>1999-11-23</th>\n",
       "      <td>-1.936005</td>\n",
       "      <td>0.453801</td>\n",
       "      <td>-1.890881</td>\n",
       "      <td>-3.243109</td>\n",
       "      <td>-1.870150</td>\n",
       "      <td>0.015214</td>\n",
       "      <td>0.713638</td>\n",
       "      <td>a</td>\n",
       "    </tr>\n",
       "    <tr>\n",
       "      <th>1999-11-24</th>\n",
       "      <td>0.857645</td>\n",
       "      <td>1.369972</td>\n",
       "      <td>0.695310</td>\n",
       "      <td>-0.243544</td>\n",
       "      <td>-0.524722</td>\n",
       "      <td>0.003161</td>\n",
       "      <td>0.349030</td>\n",
       "      <td>a</td>\n",
       "    </tr>\n",
       "  </tbody>\n",
       "</table>\n",
       "</div>"
      ],
      "text/plain": [
       "               c_2_o     h_2_o     l_2_o     c_2_h     h_2_l     c1_c0  \\\n",
       "1999-11-18 -2.875906  3.942736 -5.176517 -8.313468 -7.250098 -0.040822   \n",
       "1999-11-19 -2.218402 -0.819624 -2.967516 -2.283408 -1.726542  0.059812   \n",
       "1999-11-22  1.572687  1.318667 -0.694121  0.829875 -1.595383 -0.062775   \n",
       "1999-11-23 -1.936005  0.453801 -1.890881 -3.243109 -1.870150  0.015214   \n",
       "1999-11-24  0.857645  1.369972  0.695310 -0.243544 -0.524722  0.003161   \n",
       "\n",
       "                  vol ticker  \n",
       "1999-11-18  22.437430      a  \n",
       "1999-11-19   4.609137      a  \n",
       "1999-11-22   0.924687      a  \n",
       "1999-11-23   0.713638      a  \n",
       "1999-11-24   0.349030      a  "
      ]
     },
     "execution_count": 12,
     "metadata": {},
     "output_type": "execute_result"
    }
   ],
   "source": [
    "Final.head()"
   ]
  },
  {
   "cell_type": "code",
   "execution_count": 13,
   "metadata": {
    "collapsed": false
   },
   "outputs": [],
   "source": [
    "pivot_columns = Final.columns[:-1]\n",
    "P = Final.pivot_table(index=Final.index,columns='ticker',values=pivot_columns) # Make a pivot table from the data"
   ]
  },
  {
   "cell_type": "code",
   "execution_count": 14,
   "metadata": {
    "collapsed": false
   },
   "outputs": [
    {
     "data": {
      "text/html": [
       "<div>\n",
       "<table border=\"1\" class=\"dataframe\">\n",
       "  <thead>\n",
       "    <tr>\n",
       "      <th></th>\n",
       "      <th colspan=\"10\" halign=\"left\">c_2_o</th>\n",
       "      <th>...</th>\n",
       "      <th colspan=\"10\" halign=\"left\">vol</th>\n",
       "    </tr>\n",
       "    <tr>\n",
       "      <th>ticker</th>\n",
       "      <th>a</th>\n",
       "      <th>aa</th>\n",
       "      <th>aapl</th>\n",
       "      <th>abbv</th>\n",
       "      <th>abc</th>\n",
       "      <th>abt</th>\n",
       "      <th>ace</th>\n",
       "      <th>acn</th>\n",
       "      <th>act</th>\n",
       "      <th>adbe</th>\n",
       "      <th>...</th>\n",
       "      <th>xl</th>\n",
       "      <th>xlnx</th>\n",
       "      <th>xom</th>\n",
       "      <th>xray</th>\n",
       "      <th>xrx</th>\n",
       "      <th>xyl</th>\n",
       "      <th>yhoo</th>\n",
       "      <th>yum</th>\n",
       "      <th>zion</th>\n",
       "      <th>zmh</th>\n",
       "    </tr>\n",
       "  </thead>\n",
       "  <tbody>\n",
       "    <tr>\n",
       "      <th>1998-01-02</th>\n",
       "      <td>NaN</td>\n",
       "      <td>-0.017649</td>\n",
       "      <td>6.991394</td>\n",
       "      <td>NaN</td>\n",
       "      <td>0.047250</td>\n",
       "      <td>1.845516</td>\n",
       "      <td>-0.601609</td>\n",
       "      <td>NaN</td>\n",
       "      <td>-0.911471</td>\n",
       "      <td>-0.375461</td>\n",
       "      <td>...</td>\n",
       "      <td>-0.676802</td>\n",
       "      <td>1.391497</td>\n",
       "      <td>-1.045626</td>\n",
       "      <td>-1.147952</td>\n",
       "      <td>-0.817355</td>\n",
       "      <td>NaN</td>\n",
       "      <td>-0.368713</td>\n",
       "      <td>-0.678763</td>\n",
       "      <td>-0.724482</td>\n",
       "      <td>NaN</td>\n",
       "    </tr>\n",
       "    <tr>\n",
       "      <th>1998-01-05</th>\n",
       "      <td>NaN</td>\n",
       "      <td>0.373488</td>\n",
       "      <td>-1.224062</td>\n",
       "      <td>NaN</td>\n",
       "      <td>-0.160945</td>\n",
       "      <td>0.031659</td>\n",
       "      <td>-0.234577</td>\n",
       "      <td>NaN</td>\n",
       "      <td>2.090086</td>\n",
       "      <td>0.791331</td>\n",
       "      <td>...</td>\n",
       "      <td>-0.621025</td>\n",
       "      <td>1.019607</td>\n",
       "      <td>-0.615370</td>\n",
       "      <td>-0.556684</td>\n",
       "      <td>-0.757660</td>\n",
       "      <td>NaN</td>\n",
       "      <td>0.064841</td>\n",
       "      <td>0.980283</td>\n",
       "      <td>-0.735275</td>\n",
       "      <td>NaN</td>\n",
       "    </tr>\n",
       "    <tr>\n",
       "      <th>1998-01-06</th>\n",
       "      <td>NaN</td>\n",
       "      <td>-0.718569</td>\n",
       "      <td>6.857266</td>\n",
       "      <td>NaN</td>\n",
       "      <td>-1.102853</td>\n",
       "      <td>-0.473164</td>\n",
       "      <td>0.452262</td>\n",
       "      <td>NaN</td>\n",
       "      <td>-1.239961</td>\n",
       "      <td>1.451409</td>\n",
       "      <td>...</td>\n",
       "      <td>-0.634169</td>\n",
       "      <td>0.020195</td>\n",
       "      <td>-0.527923</td>\n",
       "      <td>-1.131583</td>\n",
       "      <td>-0.629732</td>\n",
       "      <td>NaN</td>\n",
       "      <td>0.150071</td>\n",
       "      <td>1.697887</td>\n",
       "      <td>-0.683202</td>\n",
       "      <td>NaN</td>\n",
       "    </tr>\n",
       "    <tr>\n",
       "      <th>1998-01-07</th>\n",
       "      <td>NaN</td>\n",
       "      <td>0.980669</td>\n",
       "      <td>-3.007557</td>\n",
       "      <td>NaN</td>\n",
       "      <td>0.553079</td>\n",
       "      <td>0.746779</td>\n",
       "      <td>0.137372</td>\n",
       "      <td>NaN</td>\n",
       "      <td>-0.878292</td>\n",
       "      <td>-0.534781</td>\n",
       "      <td>...</td>\n",
       "      <td>-0.616242</td>\n",
       "      <td>1.023705</td>\n",
       "      <td>-0.134130</td>\n",
       "      <td>-0.329006</td>\n",
       "      <td>-0.504232</td>\n",
       "      <td>NaN</td>\n",
       "      <td>-0.463651</td>\n",
       "      <td>0.515268</td>\n",
       "      <td>-0.635858</td>\n",
       "      <td>NaN</td>\n",
       "    </tr>\n",
       "    <tr>\n",
       "      <th>1998-01-08</th>\n",
       "      <td>NaN</td>\n",
       "      <td>-1.828950</td>\n",
       "      <td>1.388888</td>\n",
       "      <td>NaN</td>\n",
       "      <td>0.488170</td>\n",
       "      <td>-0.221620</td>\n",
       "      <td>-0.484264</td>\n",
       "      <td>NaN</td>\n",
       "      <td>1.300492</td>\n",
       "      <td>0.538778</td>\n",
       "      <td>...</td>\n",
       "      <td>-0.655003</td>\n",
       "      <td>0.645285</td>\n",
       "      <td>-0.907375</td>\n",
       "      <td>-1.066107</td>\n",
       "      <td>-0.560549</td>\n",
       "      <td>NaN</td>\n",
       "      <td>-0.157777</td>\n",
       "      <td>0.235907</td>\n",
       "      <td>-0.605092</td>\n",
       "      <td>NaN</td>\n",
       "    </tr>\n",
       "  </tbody>\n",
       "</table>\n",
       "<p>5 rows × 3500 columns</p>\n",
       "</div>"
      ],
      "text/plain": [
       "           c_2_o                                                             \\\n",
       "ticker         a        aa      aapl abbv       abc       abt       ace acn   \n",
       "1998-01-02   NaN -0.017649  6.991394  NaN  0.047250  1.845516 -0.601609 NaN   \n",
       "1998-01-05   NaN  0.373488 -1.224062  NaN -0.160945  0.031659 -0.234577 NaN   \n",
       "1998-01-06   NaN -0.718569  6.857266  NaN -1.102853 -0.473164  0.452262 NaN   \n",
       "1998-01-07   NaN  0.980669 -3.007557  NaN  0.553079  0.746779  0.137372 NaN   \n",
       "1998-01-08   NaN -1.828950  1.388888  NaN  0.488170 -0.221620 -0.484264 NaN   \n",
       "\n",
       "                               ...       vol                                \\\n",
       "ticker           act      adbe ...        xl      xlnx       xom      xray   \n",
       "1998-01-02 -0.911471 -0.375461 ... -0.676802  1.391497 -1.045626 -1.147952   \n",
       "1998-01-05  2.090086  0.791331 ... -0.621025  1.019607 -0.615370 -0.556684   \n",
       "1998-01-06 -1.239961  1.451409 ... -0.634169  0.020195 -0.527923 -1.131583   \n",
       "1998-01-07 -0.878292 -0.534781 ... -0.616242  1.023705 -0.134130 -0.329006   \n",
       "1998-01-08  1.300492  0.538778 ... -0.655003  0.645285 -0.907375 -1.066107   \n",
       "\n",
       "                                                            \n",
       "ticker           xrx xyl      yhoo       yum      zion zmh  \n",
       "1998-01-02 -0.817355 NaN -0.368713 -0.678763 -0.724482 NaN  \n",
       "1998-01-05 -0.757660 NaN  0.064841  0.980283 -0.735275 NaN  \n",
       "1998-01-06 -0.629732 NaN  0.150071  1.697887 -0.683202 NaN  \n",
       "1998-01-07 -0.504232 NaN -0.463651  0.515268 -0.635858 NaN  \n",
       "1998-01-08 -0.560549 NaN -0.157777  0.235907 -0.605092 NaN  \n",
       "\n",
       "[5 rows x 3500 columns]"
      ]
     },
     "execution_count": 14,
     "metadata": {},
     "output_type": "execute_result"
    }
   ],
   "source": [
    "P.head()"
   ]
  },
  {
   "cell_type": "markdown",
   "metadata": {},
   "source": [
    "### Flattening the pivot\n",
    "source http://stackoverflow.com/questions/14507794/python-pandas-how-to-flatten-a-hierarchical-index-in-columns\n",
    "At the end of this P is a flattened dataframe of all the entries for each stock, one day per row"
   ]
  },
  {
   "cell_type": "code",
   "execution_count": 15,
   "metadata": {
    "collapsed": false
   },
   "outputs": [],
   "source": [
    "mi = P.columns.tolist()"
   ]
  },
  {
   "cell_type": "code",
   "execution_count": 16,
   "metadata": {
    "collapsed": false
   },
   "outputs": [],
   "source": [
    "new_ind = pd.Index(e[1] +'_' + e[0] for e in mi)"
   ]
  },
  {
   "cell_type": "code",
   "execution_count": 17,
   "metadata": {
    "collapsed": false
   },
   "outputs": [
    {
     "name": "stderr",
     "output_type": "stream",
     "text": [
      "/Users/edwardkim/anaconda3/lib/python3.6/site-packages/ipykernel/__main__.py:2: FutureWarning: sort(....) is deprecated, use sort_index(.....)\n",
      "  from ipykernel import kernelapp as app\n"
     ]
    }
   ],
   "source": [
    "P.columns = new_ind\n",
    "P = P.sort(axis=1) # Sort by columns"
   ]
  },
  {
   "cell_type": "code",
   "execution_count": 18,
   "metadata": {
    "collapsed": false
   },
   "outputs": [
    {
     "data": {
      "text/html": [
       "<div>\n",
       "<table border=\"1\" class=\"dataframe\">\n",
       "  <thead>\n",
       "    <tr style=\"text-align: right;\">\n",
       "      <th></th>\n",
       "      <th>a_c1_c0</th>\n",
       "      <th>a_c_2_h</th>\n",
       "      <th>a_c_2_o</th>\n",
       "      <th>a_h_2_l</th>\n",
       "      <th>a_h_2_o</th>\n",
       "      <th>a_l_2_o</th>\n",
       "      <th>a_vol</th>\n",
       "      <th>aa_c1_c0</th>\n",
       "      <th>aa_c_2_h</th>\n",
       "      <th>aa_c_2_o</th>\n",
       "      <th>...</th>\n",
       "      <th>zion_h_2_o</th>\n",
       "      <th>zion_l_2_o</th>\n",
       "      <th>zion_vol</th>\n",
       "      <th>zmh_c1_c0</th>\n",
       "      <th>zmh_c_2_h</th>\n",
       "      <th>zmh_c_2_o</th>\n",
       "      <th>zmh_h_2_l</th>\n",
       "      <th>zmh_h_2_o</th>\n",
       "      <th>zmh_l_2_o</th>\n",
       "      <th>zmh_vol</th>\n",
       "    </tr>\n",
       "  </thead>\n",
       "  <tbody>\n",
       "    <tr>\n",
       "      <th>1998-01-02</th>\n",
       "      <td>NaN</td>\n",
       "      <td>NaN</td>\n",
       "      <td>NaN</td>\n",
       "      <td>NaN</td>\n",
       "      <td>NaN</td>\n",
       "      <td>NaN</td>\n",
       "      <td>NaN</td>\n",
       "      <td>0.017390</td>\n",
       "      <td>0.670259</td>\n",
       "      <td>-0.017649</td>\n",
       "      <td>...</td>\n",
       "      <td>0.246401</td>\n",
       "      <td>0.710284</td>\n",
       "      <td>-0.724482</td>\n",
       "      <td>NaN</td>\n",
       "      <td>NaN</td>\n",
       "      <td>NaN</td>\n",
       "      <td>NaN</td>\n",
       "      <td>NaN</td>\n",
       "      <td>NaN</td>\n",
       "      <td>NaN</td>\n",
       "    </tr>\n",
       "    <tr>\n",
       "      <th>1998-01-05</th>\n",
       "      <td>NaN</td>\n",
       "      <td>NaN</td>\n",
       "      <td>NaN</td>\n",
       "      <td>NaN</td>\n",
       "      <td>NaN</td>\n",
       "      <td>NaN</td>\n",
       "      <td>NaN</td>\n",
       "      <td>-0.022601</td>\n",
       "      <td>0.462520</td>\n",
       "      <td>0.373488</td>\n",
       "      <td>...</td>\n",
       "      <td>0.127875</td>\n",
       "      <td>0.710284</td>\n",
       "      <td>-0.735275</td>\n",
       "      <td>NaN</td>\n",
       "      <td>NaN</td>\n",
       "      <td>NaN</td>\n",
       "      <td>NaN</td>\n",
       "      <td>NaN</td>\n",
       "      <td>NaN</td>\n",
       "      <td>NaN</td>\n",
       "    </tr>\n",
       "    <tr>\n",
       "      <th>1998-01-06</th>\n",
       "      <td>NaN</td>\n",
       "      <td>NaN</td>\n",
       "      <td>NaN</td>\n",
       "      <td>NaN</td>\n",
       "      <td>NaN</td>\n",
       "      <td>NaN</td>\n",
       "      <td>NaN</td>\n",
       "      <td>0.001693</td>\n",
       "      <td>-0.088471</td>\n",
       "      <td>-0.718569</td>\n",
       "      <td>...</td>\n",
       "      <td>-0.677287</td>\n",
       "      <td>-1.264514</td>\n",
       "      <td>-0.683202</td>\n",
       "      <td>NaN</td>\n",
       "      <td>NaN</td>\n",
       "      <td>NaN</td>\n",
       "      <td>NaN</td>\n",
       "      <td>NaN</td>\n",
       "      <td>NaN</td>\n",
       "      <td>NaN</td>\n",
       "    </tr>\n",
       "    <tr>\n",
       "      <th>1998-01-07</th>\n",
       "      <td>NaN</td>\n",
       "      <td>NaN</td>\n",
       "      <td>NaN</td>\n",
       "      <td>NaN</td>\n",
       "      <td>NaN</td>\n",
       "      <td>NaN</td>\n",
       "      <td>NaN</td>\n",
       "      <td>-0.042290</td>\n",
       "      <td>1.002099</td>\n",
       "      <td>0.980669</td>\n",
       "      <td>...</td>\n",
       "      <td>-0.677287</td>\n",
       "      <td>-1.175835</td>\n",
       "      <td>-0.635858</td>\n",
       "      <td>NaN</td>\n",
       "      <td>NaN</td>\n",
       "      <td>NaN</td>\n",
       "      <td>NaN</td>\n",
       "      <td>NaN</td>\n",
       "      <td>NaN</td>\n",
       "      <td>NaN</td>\n",
       "    </tr>\n",
       "    <tr>\n",
       "      <th>1998-01-08</th>\n",
       "      <td>NaN</td>\n",
       "      <td>NaN</td>\n",
       "      <td>NaN</td>\n",
       "      <td>NaN</td>\n",
       "      <td>NaN</td>\n",
       "      <td>NaN</td>\n",
       "      <td>NaN</td>\n",
       "      <td>-0.024094</td>\n",
       "      <td>-2.074267</td>\n",
       "      <td>-1.828950</td>\n",
       "      <td>...</td>\n",
       "      <td>-0.202411</td>\n",
       "      <td>-2.278200</td>\n",
       "      <td>-0.605092</td>\n",
       "      <td>NaN</td>\n",
       "      <td>NaN</td>\n",
       "      <td>NaN</td>\n",
       "      <td>NaN</td>\n",
       "      <td>NaN</td>\n",
       "      <td>NaN</td>\n",
       "      <td>NaN</td>\n",
       "    </tr>\n",
       "  </tbody>\n",
       "</table>\n",
       "<p>5 rows × 3500 columns</p>\n",
       "</div>"
      ],
      "text/plain": [
       "            a_c1_c0  a_c_2_h  a_c_2_o  a_h_2_l  a_h_2_o  a_l_2_o  a_vol  \\\n",
       "1998-01-02      NaN      NaN      NaN      NaN      NaN      NaN    NaN   \n",
       "1998-01-05      NaN      NaN      NaN      NaN      NaN      NaN    NaN   \n",
       "1998-01-06      NaN      NaN      NaN      NaN      NaN      NaN    NaN   \n",
       "1998-01-07      NaN      NaN      NaN      NaN      NaN      NaN    NaN   \n",
       "1998-01-08      NaN      NaN      NaN      NaN      NaN      NaN    NaN   \n",
       "\n",
       "            aa_c1_c0  aa_c_2_h  aa_c_2_o   ...     zion_h_2_o  zion_l_2_o  \\\n",
       "1998-01-02  0.017390  0.670259 -0.017649   ...       0.246401    0.710284   \n",
       "1998-01-05 -0.022601  0.462520  0.373488   ...       0.127875    0.710284   \n",
       "1998-01-06  0.001693 -0.088471 -0.718569   ...      -0.677287   -1.264514   \n",
       "1998-01-07 -0.042290  1.002099  0.980669   ...      -0.677287   -1.175835   \n",
       "1998-01-08 -0.024094 -2.074267 -1.828950   ...      -0.202411   -2.278200   \n",
       "\n",
       "            zion_vol  zmh_c1_c0  zmh_c_2_h  zmh_c_2_o  zmh_h_2_l  zmh_h_2_o  \\\n",
       "1998-01-02 -0.724482        NaN        NaN        NaN        NaN        NaN   \n",
       "1998-01-05 -0.735275        NaN        NaN        NaN        NaN        NaN   \n",
       "1998-01-06 -0.683202        NaN        NaN        NaN        NaN        NaN   \n",
       "1998-01-07 -0.635858        NaN        NaN        NaN        NaN        NaN   \n",
       "1998-01-08 -0.605092        NaN        NaN        NaN        NaN        NaN   \n",
       "\n",
       "            zmh_l_2_o  zmh_vol  \n",
       "1998-01-02        NaN      NaN  \n",
       "1998-01-05        NaN      NaN  \n",
       "1998-01-06        NaN      NaN  \n",
       "1998-01-07        NaN      NaN  \n",
       "1998-01-08        NaN      NaN  \n",
       "\n",
       "[5 rows x 3500 columns]"
      ]
     },
     "execution_count": 18,
     "metadata": {},
     "output_type": "execute_result"
    }
   ],
   "source": [
    "P.head()"
   ]
  },
  {
   "cell_type": "code",
   "execution_count": 19,
   "metadata": {
    "collapsed": false
   },
   "outputs": [],
   "source": [
    "clean_and_flat = P.dropna(1)"
   ]
  },
  {
   "cell_type": "code",
   "execution_count": 20,
   "metadata": {
    "collapsed": false,
    "scrolled": true
   },
   "outputs": [],
   "source": [
    "target_cols = list(filter(lambda x: 'c1_c0' in x, clean_and_flat.columns.values))\n",
    "input_cols  = list(filter(lambda x: 'c1_c0' not in x, clean_and_flat.columns.values))"
   ]
  },
  {
   "cell_type": "code",
   "execution_count": 21,
   "metadata": {
    "collapsed": false
   },
   "outputs": [],
   "source": [
    "InputDF = clean_and_flat[input_cols][:3900]\n",
    "TargetDF = clean_and_flat[target_cols][:3900]"
   ]
  },
  {
   "cell_type": "code",
   "execution_count": 22,
   "metadata": {
    "collapsed": false
   },
   "outputs": [],
   "source": [
    "corrs = TargetDF.corr()"
   ]
  },
  {
   "cell_type": "markdown",
   "metadata": {},
   "source": [
    "## Generating Targets\n",
    "We now have an our inputs and targets, kind of. \n",
    "InputsDF has all the inputs we want to predict. Targets DF has the return of each stock each day. \n",
    "For starters, lets give a simpler target to predict than the reuturn of each stock, since we don't have much data. \n",
    "\n",
    "\n",
    "We're going to label the targets as either up (1) down (-1) or flat (0) days.\n",
    "The top chart shows what would happen if we bought 1 dollar of ewach stock each day\n",
    "The bottom chart shows what would happen if we longed the whole basket on (1) days, shorted it on down days (-1) and ignored it on  (0) days. \n",
    "You can see that this is a valuable target to predict."
   ]
  },
  {
   "cell_type": "code",
   "execution_count": 23,
   "metadata": {
    "collapsed": false
   },
   "outputs": [],
   "source": [
    "num_stocks = len(TargetDF.columns)"
   ]
  },
  {
   "cell_type": "code",
   "execution_count": 24,
   "metadata": {
    "collapsed": false
   },
   "outputs": [],
   "source": [
    "TotalReturn = ((1-exp(TargetDF)).sum(1))/num_stocks # If i put one dollar in each stock at the close, this is how much I'd get back"
   ]
  },
  {
   "cell_type": "code",
   "execution_count": 25,
   "metadata": {
    "collapsed": false
   },
   "outputs": [],
   "source": [
    "def labeler(x):\n",
    "    if x>0.0029:\n",
    "        return 1\n",
    "    if x<-0.00462:\n",
    "        return -1\n",
    "    else:\n",
    "        return 0"
   ]
  },
  {
   "cell_type": "code",
   "execution_count": 26,
   "metadata": {
    "collapsed": false
   },
   "outputs": [],
   "source": [
    "Labeled = pd.DataFrame()\n",
    "Labeled['return'] = TotalReturn\n",
    "Labeled['class'] = TotalReturn.apply(labeler,1)\n",
    "Labeled['multi_class'] = pd.qcut(TotalReturn,11,labels=range(11))"
   ]
  },
  {
   "cell_type": "code",
   "execution_count": 27,
   "metadata": {
    "collapsed": false
   },
   "outputs": [
    {
     "data": {
      "text/plain": [
       "[(-0.00301, 0.00119], (0.00741, 0.0999], (0.00119, 0.00741], [-0.108, -0.00877], (-0.00877, -0.00301]]\n",
       "Categories (5, object): [[-0.108, -0.00877] < (-0.00877, -0.00301] < (-0.00301, 0.00119] < (0.00119, 0.00741] < (0.00741, 0.0999]]"
      ]
     },
     "execution_count": 27,
     "metadata": {},
     "output_type": "execute_result"
    }
   ],
   "source": [
    "pd.qcut(TotalReturn,5).unique()"
   ]
  },
  {
   "cell_type": "code",
   "execution_count": null,
   "metadata": {
    "collapsed": false
   },
   "outputs": [],
   "source": []
  },
  {
   "cell_type": "code",
   "execution_count": 28,
   "metadata": {
    "collapsed": true
   },
   "outputs": [],
   "source": [
    "def labeler_multi(x):\n",
    "    if x>0.0029:\n",
    "        return 1\n",
    "    if x<-0.00462:\n",
    "        return -1\n",
    "    else:\n",
    "        return 0"
   ]
  },
  {
   "cell_type": "code",
   "execution_count": 29,
   "metadata": {
    "collapsed": false
   },
   "outputs": [
    {
     "data": {
      "text/plain": [
       " 1    1301\n",
       " 0    1301\n",
       "-1    1298\n",
       "Name: class, dtype: int64"
      ]
     },
     "execution_count": 29,
     "metadata": {},
     "output_type": "execute_result"
    }
   ],
   "source": [
    "Labeled['class'].value_counts()"
   ]
  },
  {
   "cell_type": "code",
   "execution_count": 30,
   "metadata": {
    "collapsed": false
   },
   "outputs": [],
   "source": [
    "Labeled['act_return'] = Labeled['class'] * Labeled['return']"
   ]
  },
  {
   "cell_type": "code",
   "execution_count": 31,
   "metadata": {
    "collapsed": false
   },
   "outputs": [
    {
     "data": {
      "text/plain": [
       "array([<matplotlib.axes._subplots.AxesSubplot object at 0x116951e48>,\n",
       "       <matplotlib.axes._subplots.AxesSubplot object at 0x1169ace10>], dtype=object)"
      ]
     },
     "execution_count": 31,
     "metadata": {},
     "output_type": "execute_result"
    },
    {
     "data": {
      "image/png": "[encoded data removed]",
      "text/plain": [
       "<matplotlib.figure.Figure at 0x1169514a8>"
      ]
     },
     "metadata": {},
     "output_type": "display_data"
    }
   ],
   "source": [
    "Labeled[['return','act_return']].cumsum().plot(subplots=True)"
   ]
  },
  {
   "cell_type": "markdown",
   "metadata": {},
   "source": [
    "# Making a baseline"
   ]
  },
  {
   "cell_type": "markdown",
   "metadata": {},
   "source": [
    "## Logistic Regression"
   ]
  },
  {
   "cell_type": "code",
   "execution_count": 32,
   "metadata": {
    "collapsed": true
   },
   "outputs": [],
   "source": [
    "from sklearn import linear_model\n",
    "logreg = linear_model.LogisticRegression(C=1e5)"
   ]
  },
  {
   "cell_type": "code",
   "execution_count": null,
   "metadata": {
    "collapsed": false
   },
   "outputs": [],
   "source": []
  },
  {
   "cell_type": "code",
   "execution_count": 33,
   "metadata": {
    "collapsed": true
   },
   "outputs": [],
   "source": [
    "test_size=600"
   ]
  },
  {
   "cell_type": "code",
   "execution_count": 34,
   "metadata": {
    "collapsed": false
   },
   "outputs": [],
   "source": [
    "res = logreg.fit(InputDF[:-test_size],Labeled['multi_class'][:-test_size])"
   ]
  },
  {
   "cell_type": "code",
   "execution_count": 35,
   "metadata": {
    "collapsed": false
   },
   "outputs": [
    {
     "name": "stdout",
     "output_type": "stream",
     "text": [
      "             precision    recall  f1-score   support\n",
      "\n",
      "          0       0.18      0.04      0.06        52\n",
      "          1       0.07      0.06      0.07        50\n",
      "          2       0.08      0.15      0.10        60\n",
      "          3       0.15      0.13      0.14        62\n",
      "          4       0.08      0.06      0.07        50\n",
      "          5       0.06      0.12      0.08        51\n",
      "          6       0.13      0.20      0.16        60\n",
      "          7       0.05      0.04      0.04        53\n",
      "          8       0.06      0.06      0.06        54\n",
      "          9       0.11      0.07      0.09        56\n",
      "         10       0.00      0.00      0.00        52\n",
      "\n",
      "avg / total       0.09      0.09      0.08       600\n",
      "\n",
      "[[ 2  3 11  7  1  6  7  3  3  4  5]\n",
      " [ 2  3  8  7  8  7  6  2  2  2  3]\n",
      " [ 1  4  9  4  2 13  5 11  6  3  2]\n",
      " [ 1  6  7  8  5 15  6  1  7  4  2]\n",
      " [ 1  3  6  2  3  9 10  5  7  4  0]\n",
      " [ 0  4 11  3  3  6  6  4  5  7  2]\n",
      " [ 1  3 15  3  3 12 12  1  4  2  4]\n",
      " [ 0  4  8  4  3  8 11  2 10  3  0]\n",
      " [ 0  2 16  6  3  9 12  2  3  0  1]\n",
      " [ 0  7 11  5  2  7 10  4  4  4  2]\n",
      " [ 3  3 10  6  6  9  6  4  1  4  0]]\n"
     ]
    }
   ],
   "source": [
    "from sklearn.metrics import classification_report,confusion_matrix\n",
    "print(classification_report(Labeled['multi_class'][-test_size:],res.predict(InputDF[-test_size:])))\n",
    "print(confusion_matrix(Labeled['multi_class'][-test_size:],res.predict(InputDF[-test_size:])))"
   ]
  },
  {
   "cell_type": "code",
   "execution_count": 36,
   "metadata": {
    "collapsed": false
   },
   "outputs": [
    {
     "name": "stdout",
     "output_type": "stream",
     "text": [
      "[[91 36 76]\n",
      " [75 35 90]\n",
      " [93 30 74]]\n"
     ]
    }
   ],
   "source": [
    "Labeled['predicted_action'] = list(map(lambda x: -1 if x <5 else 0 if x==5 else 1,res.predict(InputDF)))\n",
    "print(confusion_matrix(Labeled['class'][-test_size:],Labeled['predicted_action'][-test_size:]))"
   ]
  },
  {
   "cell_type": "code",
   "execution_count": 37,
   "metadata": {
    "collapsed": false
   },
   "outputs": [],
   "source": [
    "Labeled['pred_return'] = Labeled['predicted_action'] * Labeled['return']"
   ]
  },
  {
   "cell_type": "code",
   "execution_count": 38,
   "metadata": {
    "collapsed": false
   },
   "outputs": [
    {
     "data": {
      "text/plain": [
       "<matplotlib.axes._subplots.AxesSubplot at 0x1242b8278>"
      ]
     },
     "execution_count": 38,
     "metadata": {},
     "output_type": "execute_result"
    },
    {
     "data": {
      "image/png": "[encoded data removed]",
      "text/plain": [
       "<matplotlib.figure.Figure at 0x1242a28d0>"
      ]
     },
     "metadata": {},
     "output_type": "display_data"
    }
   ],
   "source": [
    "Res = Labeled[-test_size:][['return','act_return','pred_return']].cumsum()\n",
    "Res[0] =0\n",
    "Res.plot()"
   ]
  },
  {
   "cell_type": "code",
   "execution_count": null,
   "metadata": {
    "collapsed": true
   },
   "outputs": [],
   "source": []
  },
  {
   "cell_type": "code",
   "execution_count": null,
   "metadata": {
    "collapsed": true
   },
   "outputs": [],
   "source": []
  },
  {
   "cell_type": "markdown",
   "metadata": {
    "collapsed": false
   },
   "source": [
    "## Training a basic feed forward network\n",
    "Here I'll use the tensorflow contrib.learn to quickly train a feed forward network. More of a benchmark than something I plan on using"
   ]
  },
  {
   "cell_type": "code",
   "execution_count": 39,
   "metadata": {
    "collapsed": false
   },
   "outputs": [],
   "source": [
    "import tensorflow as tf\n",
    "from  tensorflow.contrib.learn.python.learn.estimators.dnn  import DNNClassifier\n",
    "from tensorflow.contrib.layers import real_valued_column"
   ]
  },
  {
   "cell_type": "code",
   "execution_count": 40,
   "metadata": {
    "collapsed": false
   },
   "outputs": [],
   "source": [
    "Labeled['tf_class'] = Labeled['multi_class']\n",
    "num_features = len(InputDF.columns)\n",
    "dropout=0.2\n",
    "hidden_1_size = 1000\n",
    "hidden_2_size = 250\n",
    "num_classes = Labeled.tf_class.nunique()\n",
    "NUM_EPOCHS=100\n",
    "BATCH_SIZE=50\n",
    "lr=0.0001"
   ]
  },
  {
   "cell_type": "code",
   "execution_count": 41,
   "metadata": {
    "collapsed": true
   },
   "outputs": [],
   "source": [
    "train = (InputDF[:-test_size].values,Labeled.tf_class[:-test_size].values)\n",
    "val = (InputDF[-test_size:].values,Labeled.tf_class[-test_size:].values)\n",
    "NUM_TRAIN_BATCHES = int(len(train[0])/BATCH_SIZE)\n",
    "NUM_VAL_BATCHES = int(len(val[1])/BATCH_SIZE)"
   ]
  },
  {
   "cell_type": "code",
   "execution_count": 42,
   "metadata": {
    "collapsed": false
   },
   "outputs": [
    {
     "data": {
      "text/plain": [
       "3900"
      ]
     },
     "execution_count": 42,
     "metadata": {},
     "output_type": "execute_result"
    }
   ],
   "source": [
    "len(InputDF)"
   ]
  },
  {
   "cell_type": "code",
   "execution_count": 47,
   "metadata": {
    "collapsed": false
   },
   "outputs": [],
   "source": [
    "class Model():\n",
    "    def __init__(self):\n",
    "        global_step = tf.contrib.framework.get_or_create_global_step()\n",
    "        self.input_data = tf.placeholder(dtype=tf.float32,shape=[None,num_features])\n",
    "        self.target_data = tf.placeholder(dtype=tf.int32,shape=[None])\n",
    "        self.dropout_prob = tf.placeholder(dtype=tf.float32,shape=[])\n",
    "        with tf.variable_scope(\"ff\"):\n",
    "            droped_input = tf.nn.dropout(self.input_data,keep_prob=self.dropout_prob)\n",
    "            \n",
    "            layer_1 = tf.contrib.layers.fully_connected(\n",
    "                num_outputs=hidden_1_size,\n",
    "                inputs=droped_input,\n",
    "            )\n",
    "            layer_2 = tf.contrib.layers.fully_connected(\n",
    "                num_outputs=hidden_2_size,\n",
    "                inputs=layer_1,\n",
    "            )\n",
    "            self.logits = tf.contrib.layers.fully_connected(\n",
    "                num_outputs=num_classes,\n",
    "                activation_fn =None,\n",
    "                inputs=layer_2,\n",
    "            )\n",
    "        with tf.variable_scope(\"loss\"):\n",
    "            \n",
    "            self.losses = tf.nn.sparse_softmax_cross_entropy_with_logits(logits=self.logits,labels=self.target_data)\n",
    "            mask = (1-tf.sign(1-self.target_data)) #Don't give credit for flat days\n",
    "            mask = tf.cast(mask,tf.float32)\n",
    "            self.loss = tf.reduce_sum(self.losses)\n",
    "        \n",
    "        with tf.name_scope(\"train\"):\n",
    "          opt = tf.train.AdamOptimizer(lr)\n",
    "          gvs = opt.compute_gradients(self.loss)\n",
    "          self.train_op = opt.apply_gradients(gvs, global_step=global_step)\n",
    "        \n",
    "        with tf.name_scope(\"predictions\"):\n",
    "            self.probs = tf.nn.softmax(self.logits)\n",
    "            self.predictions = tf.argmax(self.probs, 1)\n",
    "            correct_pred = tf.cast(tf.equal(self.predictions, tf.cast(self.target_data,tf.int64)),tf.float64)\n",
    "            self.accuracy = tf.reduce_mean(correct_pred)"
   ]
  },
  {
   "cell_type": "code",
   "execution_count": 48,
   "metadata": {
    "collapsed": false,
    "scrolled": false
   },
   "outputs": [
    {
     "name": "stdout",
     "output_type": "stream",
     "text": [
      "WARNING:tensorflow:From <ipython-input-48-3d0af034b80f>:6: initialize_all_variables (from tensorflow.python.ops.variables) is deprecated and will be removed after 2017-03-02.\n",
      "Instructions for updating:\n",
      "Use `tf.global_variables_initializer` instead.\n",
      "step - 66 loss - 8521.692138671875 acc - 0.16\n",
      "step - 132 loss - 6970.178352355957 acc - 0.22\n",
      "step - 198 loss - 5947.719837188721 acc - 0.42\n",
      "step - 264 loss - 5083.974224090576 acc - 0.54\n",
      "step - 330 loss - 4277.626895904541 acc - 0.6\n",
      "step - 396 loss - 3639.273281097412 acc - 0.64\n",
      "step - 462 loss - 3225.3877601623535 acc - 0.8\n",
      "step - 528 loss - 2700.677547454834 acc - 0.84\n",
      "step - 594 loss - 2115.8819704055786 acc - 0.86\n",
      "step - 660 loss - 1836.4551362991333 acc - 0.92\n",
      "step - 726 loss - 1622.1298928260803 acc - 0.92\n",
      "step - 792 loss - 1339.6455760002136 acc - 0.88\n",
      "step - 858 loss - 1287.1792454719543 acc - 0.82\n",
      "step - 924 loss - 1158.026701927185 acc - 0.84\n",
      "step - 990 loss - 1225.4461469650269 acc - 0.8\n",
      "step - 1056 loss - 978.2392709255219 acc - 0.84\n",
      "step - 1122 loss - 964.242467045784 acc - 0.82\n",
      "step - 1188 loss - 892.6378920078278 acc - 0.92\n",
      "step - 1254 loss - 662.2767528295517 acc - 0.98\n",
      "step - 1320 loss - 406.6439759731293 acc - 0.96\n",
      "step - 1386 loss - 286.75884586572647 acc - 0.98\n",
      "step - 1452 loss - 238.3284462094307 acc - 1.0\n",
      "step - 1518 loss - 197.36779499053955 acc - 1.0\n",
      "step - 1584 loss - 186.8546970486641 acc - 0.98\n",
      "step - 1650 loss - 161.8078231215477 acc - 1.0\n",
      "step - 1716 loss - 147.47236716747284 acc - 1.0\n",
      "step - 1782 loss - 136.71908676624298 acc - 1.0\n",
      "step - 1848 loss - 122.63963332772255 acc - 1.0\n",
      "step - 1914 loss - 114.41212250292301 acc - 1.0\n",
      "step - 1980 loss - 108.28563775122166 acc - 0.98\n",
      "step - 2046 loss - 92.63626569509506 acc - 0.98\n",
      "step - 2112 loss - 92.23948410153389 acc - 1.0\n",
      "step - 2178 loss - 93.55825525522232 acc - 1.0\n",
      "step - 2244 loss - 85.74496777355671 acc - 1.0\n",
      "step - 2310 loss - 79.9360403418541 acc - 0.96\n",
      "step - 2376 loss - 82.86109912395477 acc - 0.98\n",
      "step - 2442 loss - 77.66392481327057 acc - 1.0\n",
      "step - 2508 loss - 72.9079788774252 acc - 0.98\n",
      "step - 2574 loss - 66.23376914858818 acc - 1.0\n",
      "step - 2640 loss - 66.64042450487614 acc - 0.98\n",
      "step - 2706 loss - 56.24812978506088 acc - 1.0\n",
      "step - 2772 loss - 63.20482410490513 acc - 1.0\n",
      "step - 2838 loss - 62.25252439081669 acc - 0.98\n",
      "step - 2904 loss - 58.310496374964714 acc - 0.98\n",
      "step - 2970 loss - 49.41949762403965 acc - 1.0\n",
      "step - 3036 loss - 48.33510009944439 acc - 1.0\n",
      "step - 3102 loss - 56.870614275336266 acc - 0.98\n",
      "step - 3168 loss - 85.24641372263432 acc - 1.0\n",
      "step - 3234 loss - 123.64993534982204 acc - 0.98\n",
      "step - 3300 loss - 178.04474118351936 acc - 1.0\n",
      "step - 3366 loss - 262.75811713933945 acc - 1.0\n",
      "step - 3432 loss - 326.9058900177479 acc - 0.98\n",
      "step - 3498 loss - 593.528918325901 acc - 0.96\n",
      "step - 3564 loss - 323.51898819208145 acc - 0.98\n",
      "step - 3630 loss - 335.44420740008354 acc - 1.0\n",
      "step - 3696 loss - 172.03226926922798 acc - 0.96\n",
      "step - 3762 loss - 110.37764775753021 acc - 1.0\n",
      "step - 3828 loss - 94.00108441710472 acc - 1.0\n",
      "step - 3894 loss - 49.74710950255394 acc - 1.0\n",
      "step - 3960 loss - 31.347468957304955 acc - 1.0\n",
      "step - 4026 loss - 38.73703007400036 acc - 1.0\n",
      "step - 4092 loss - 33.45241716504097 acc - 1.0\n",
      "step - 4158 loss - 21.640963539481163 acc - 1.0\n",
      "step - 4224 loss - 14.145908819511533 acc - 1.0\n",
      "step - 4290 loss - 12.020056392997503 acc - 1.0\n",
      "step - 4356 loss - 12.365072764456272 acc - 1.0\n",
      "step - 4422 loss - 14.840201459825039 acc - 1.0\n",
      "step - 4488 loss - 11.3084666011855 acc - 1.0\n",
      "step - 4554 loss - 10.119688578881323 acc - 1.0\n",
      "step - 4620 loss - 10.136376580223441 acc - 1.0\n",
      "step - 4686 loss - 9.81684332061559 acc - 1.0\n",
      "step - 4752 loss - 12.12462877575308 acc - 1.0\n",
      "step - 4818 loss - 8.97629259340465 acc - 1.0\n",
      "step - 4884 loss - 7.831392377614975 acc - 1.0\n",
      "step - 4950 loss - 7.5014411099255085 acc - 1.0\n",
      "step - 5016 loss - 6.842059262096882 acc - 1.0\n",
      "step - 5082 loss - 6.876053034327924 acc - 1.0\n",
      "step - 5148 loss - 6.686151024885476 acc - 1.0\n",
      "step - 5214 loss - 6.680496317334473 acc - 1.0\n",
      "step - 5280 loss - 6.3760223258286715 acc - 1.0\n",
      "step - 5346 loss - 6.344458373263478 acc - 1.0\n",
      "step - 5412 loss - 5.8153815837576985 acc - 1.0\n",
      "step - 5478 loss - 5.631815656088293 acc - 1.0\n",
      "step - 5544 loss - 5.156174617819488 acc - 1.0\n",
      "step - 5610 loss - 5.497793176211417 acc - 1.0\n",
      "step - 5676 loss - 4.7546024257317185 acc - 1.0\n",
      "step - 5742 loss - 5.465802943333983 acc - 1.0\n",
      "step - 5808 loss - 10.613611963577569 acc - 1.0\n",
      "step - 5874 loss - 5.462223690003157 acc - 1.0\n",
      "step - 5940 loss - 4.82550592161715 acc - 1.0\n",
      "step - 6006 loss - 4.228139137849212 acc - 1.0\n",
      "step - 6072 loss - 4.962488727644086 acc - 1.0\n",
      "step - 6138 loss - 4.6161246984265745 acc - 1.0\n",
      "step - 6204 loss - 4.4061385383829474 acc - 1.0\n",
      "step - 6270 loss - 3.716278698295355 acc - 1.0\n",
      "step - 6336 loss - 4.039429577067494 acc - 1.0\n",
      "step - 6402 loss - 3.698155331425369 acc - 1.0\n",
      "step - 6468 loss - 3.8692314084619284 acc - 1.0\n",
      "step - 6534 loss - 3.4132454628124833 acc - 1.0\n",
      "step - 6600 loss - 3.7849129643291235 acc - 1.0\n",
      "done training\n",
      "0.08\n",
      "0.02\n",
      "0.18\n",
      "0.08\n",
      "0.1\n",
      "0.08\n",
      "0.04\n",
      "0.08\n",
      "0.06\n",
      "0.16\n",
      "0.12\n",
      "0.14\n"
     ]
    }
   ],
   "source": [
    "with tf.Graph().as_default():\n",
    "    model = Model()\n",
    "    input_ = train[0]\n",
    "    target = train[1]\n",
    "    with tf.Session() as sess:\n",
    "        init = tf.initialize_all_variables()\n",
    "        sess.run([init])\n",
    "        epoch_loss =0\n",
    "        for e in range(NUM_EPOCHS):\n",
    "            if epoch_loss >0 and epoch_loss <1:\n",
    "                break\n",
    "            epoch_loss =0\n",
    "            for batch in range(0,NUM_TRAIN_BATCHES):\n",
    "                \n",
    "                start = batch*BATCH_SIZE\n",
    "                end = start + BATCH_SIZE \n",
    "                feed = {\n",
    "                    model.input_data:input_[start:end],\n",
    "                    model.target_data:target[start:end],\n",
    "                    model.dropout_prob:0.9\n",
    "                            }\n",
    "                \n",
    "                _,loss,acc = sess.run(\n",
    "                    [\n",
    "                        model.train_op,\n",
    "                        model.loss,\n",
    "                        model.accuracy,\n",
    "                    ]\n",
    "                    ,feed_dict=feed\n",
    "                )\n",
    "                epoch_loss+=loss\n",
    "            print('step - {0} loss - {1} acc - {2}'.format((1+batch+NUM_TRAIN_BATCHES*e),epoch_loss,acc))\n",
    "                \n",
    "        \n",
    "        print('done training')\n",
    "        final_preds =np.array([])\n",
    "        final_probs =None\n",
    "        for batch in range(0,NUM_VAL_BATCHES):\n",
    "            \n",
    "                start = batch*BATCH_SIZE\n",
    "                end = start + BATCH_SIZE \n",
    "                feed = {\n",
    "                    model.input_data:val[0][start:end],\n",
    "                    model.target_data:val[1][start:end],\n",
    "                    model.dropout_prob:1\n",
    "                            }\n",
    "                \n",
    "                acc,preds,probs = sess.run(\n",
    "                    [\n",
    "                        model.accuracy,\n",
    "                        model.predictions,\n",
    "                        model.probs\n",
    "                    ]\n",
    "                    ,feed_dict=feed\n",
    "                )\n",
    "                print(acc)\n",
    "                final_preds = np.concatenate((final_preds,preds),axis=0)\n",
    "                if final_probs is None:\n",
    "                    final_probs = probs\n",
    "                else:\n",
    "                    final_probs = np.concatenate((final_probs,probs),axis=0)\n",
    "        prediction_conf = final_probs[np.argmax(final_probs,1)]"
   ]
  },
  {
   "cell_type": "code",
   "execution_count": 49,
   "metadata": {
    "collapsed": false
   },
   "outputs": [],
   "source": [
    "Result = Labeled[-test_size:].copy()"
   ]
  },
  {
   "cell_type": "code",
   "execution_count": 50,
   "metadata": {
    "collapsed": false
   },
   "outputs": [],
   "source": [
    "Result['nn_pred'] = final_preds\n",
    "Result['mod_nn_prod'] = list(map(lambda x: -1 if x <5 else 0 if x==5 else 1,final_preds))\n",
    "Result['nn_ret'] = Result.mod_nn_prod*Result['return']"
   ]
  },
  {
   "cell_type": "code",
   "execution_count": 51,
   "metadata": {
    "collapsed": false
   },
   "outputs": [
    {
     "data": {
      "text/plain": [
       "<matplotlib.axes._subplots.AxesSubplot at 0x14ca7a320>"
      ]
     },
     "execution_count": 51,
     "metadata": {},
     "output_type": "execute_result"
    },
    {
     "data": {
      "image/png": "[encoded data removed]",
      "text/plain": [
       "<matplotlib.figure.Figure at 0x14ca44780>"
      ]
     },
     "metadata": {},
     "output_type": "display_data"
    }
   ],
   "source": [
    "#Res = Result[-test_size:][['return','act_return','pred_return','nn_ret']].cumsum()\n",
    "Res = (1+Result[-test_size:][['return','act_return','nn_ret','pred_return']]).cumprod()\n",
    "Res[0] =0\n",
    "Res.plot(secondary_y='act_return')"
   ]
  },
  {
   "cell_type": "code",
   "execution_count": 52,
   "metadata": {
    "collapsed": false
   },
   "outputs": [
    {
     "name": "stdout",
     "output_type": "stream",
     "text": [
      "[[89 26 88]\n",
      " [68 34 98]\n",
      " [80 25 92]]\n",
      "             precision    recall  f1-score   support\n",
      "\n",
      "         -1       0.38      0.44      0.40       203\n",
      "          0       0.40      0.17      0.24       200\n",
      "          1       0.33      0.47      0.39       197\n",
      "\n",
      "avg / total       0.37      0.36      0.34       600\n",
      "\n"
     ]
    }
   ],
   "source": [
    "print(confusion_matrix(Result['class'],Result['mod_nn_prod']))\n",
    "print(classification_report(Result['class'],Result['mod_nn_prod']))"
   ]
  },
  {
   "cell_type": "code",
   "execution_count": 53,
   "metadata": {
    "collapsed": false
   },
   "outputs": [
    {
     "data": {
      "text/plain": [
       "<matplotlib.axes._subplots.AxesSubplot at 0x14dab4a90>"
      ]
     },
     "execution_count": 53,
     "metadata": {},
     "output_type": "execute_result"
    },
    {
     "data": {
      "image/png": "[encoded data removed]",
      "text/plain": [
       "<matplotlib.figure.Figure at 0x14db08cf8>"
      ]
     },
     "metadata": {},
     "output_type": "display_data"
    }
   ],
   "source": [
    "cm = pd.DataFrame(confusion_matrix(Result['multi_class'],Result['nn_pred']))\n",
    "#sns.heatmap(cm.div(cm.sum(1)))\n",
    "Result[Result.multi_class==6]['return'].hist()"
   ]
  },
  {
   "cell_type": "code",
   "execution_count": 54,
   "metadata": {
    "collapsed": false
   },
   "outputs": [
    {
     "name": "stdout",
     "output_type": "stream",
     "text": [
      "             precision    recall  f1-score   support\n",
      "\n",
      "          0       0.31      0.15      0.21        52\n",
      "          1       0.05      0.08      0.06        50\n",
      "          2       0.11      0.15      0.13        60\n",
      "          3       0.00      0.00      0.00        62\n",
      "          4       0.06      0.04      0.05        50\n",
      "          5       0.07      0.12      0.09        51\n",
      "          6       0.11      0.25      0.15        60\n",
      "          7       0.09      0.06      0.07        53\n",
      "          8       0.03      0.02      0.02        54\n",
      "          9       0.11      0.07      0.09        56\n",
      "         10       0.12      0.10      0.11        52\n",
      "\n",
      "avg / total       0.10      0.10      0.09       600\n",
      "\n"
     ]
    }
   ],
   "source": [
    "print(classification_report(Result['multi_class'],Result['nn_pred']))"
   ]
  },
  {
   "cell_type": "code",
   "execution_count": 55,
   "metadata": {
    "collapsed": false
   },
   "outputs": [
    {
     "data": {
      "text/plain": [
       "array([[<matplotlib.axes._subplots.AxesSubplot object at 0x14db315f8>,\n",
       "        <matplotlib.axes._subplots.AxesSubplot object at 0x14c1ed2b0>,\n",
       "        <matplotlib.axes._subplots.AxesSubplot object at 0x14c1d1438>],\n",
       "       [<matplotlib.axes._subplots.AxesSubplot object at 0x14c1b5cc0>,\n",
       "        <matplotlib.axes._subplots.AxesSubplot object at 0x1202d0dd8>,\n",
       "        <matplotlib.axes._subplots.AxesSubplot object at 0x1202d0e10>],\n",
       "       [<matplotlib.axes._subplots.AxesSubplot object at 0x1203945f8>,\n",
       "        <matplotlib.axes._subplots.AxesSubplot object at 0x1203ebef0>,\n",
       "        <matplotlib.axes._subplots.AxesSubplot object at 0x12369c208>],\n",
       "       [<matplotlib.axes._subplots.AxesSubplot object at 0x1236ecb00>,\n",
       "        <matplotlib.axes._subplots.AxesSubplot object at 0x123758ef0>,\n",
       "        <matplotlib.axes._subplots.AxesSubplot object at 0x12376a748>]], dtype=object)"
      ]
     },
     "execution_count": 55,
     "metadata": {},
     "output_type": "execute_result"
    },
    {
     "data": {
      "image/png": "[encoded data removed]",
      "text/plain": [
       "<matplotlib.figure.Figure at 0x14da909b0>"
      ]
     },
     "metadata": {},
     "output_type": "display_data"
    }
   ],
   "source": [
    "Result.hist(by='multi_class',column='return',sharex=True)"
   ]
  },
  {
   "cell_type": "markdown",
   "metadata": {},
   "source": [
    "# Main Event - RNN\n",
    "In this section we'll make an rnn model that learns to take the past into account as well"
   ]
  },
  {
   "cell_type": "markdown",
   "metadata": {},
   "source": [
    "## Defining an rnn Network"
   ]
  },
  {
   "cell_type": "code",
   "execution_count": 57,
   "metadata": {
    "collapsed": false
   },
   "outputs": [],
   "source": [
    "from tensorflow.contrib.layers.python.layers.initializers import xavier_initializer\n",
    "RNN_HIDDEN_SIZE=100\n",
    "FIRST_LAYER_SIZE=1000\n",
    "SECOND_LAYER_SIZE=250\n",
    "NUM_LAYERS=2\n",
    "BATCH_SIZE=50\n",
    "NUM_EPOCHS=200\n",
    "lr=0.0003\n",
    "NUM_TRAIN_BATCHES = int(len(train[0])/BATCH_SIZE)\n",
    "NUM_VAL_BATCHES = int(len(val[1])/BATCH_SIZE)\n",
    "ATTN_LENGTH=30\n",
    "beta=0"
   ]
  },
  {
   "cell_type": "code",
   "execution_count": null,
   "metadata": {
    "collapsed": false
   },
   "outputs": [],
   "source": []
  },
  {
   "cell_type": "code",
   "execution_count": 60,
   "metadata": {
    "collapsed": true
   },
   "outputs": [],
   "source": [
    "from tensorflow.contrib import rnn"
   ]
  },
  {
   "cell_type": "code",
   "execution_count": 84,
   "metadata": {
    "collapsed": false
   },
   "outputs": [],
   "source": [
    "class RNNModel():\n",
    "    def __init__(self):\n",
    "        global_step = tf.contrib.framework.get_or_create_global_step()\n",
    "        self.input_data = tf.placeholder(dtype=tf.float32,shape=[BATCH_SIZE,num_features])\n",
    "        self.target_data = tf.placeholder(dtype=tf.int32,shape=[BATCH_SIZE])\n",
    "        self.dropout_prob = tf.placeholder(dtype=tf.float32,shape=[])\n",
    "        \n",
    "        def makeGRUCells():\n",
    "#            base_cell = rnn.GRUCell(num_units=RNN_HIDDEN_SIZE) \n",
    "            layered_cell = rnn.MultiRNNCell([rnn.GRUCell(num_units=RNN_HIDDEN_SIZE) for _ in range(NUM_LAYERS)],state_is_tuple=False) \n",
    "            attn_cell =tf.contrib.rnn.AttentionCellWrapper(cell=layered_cell,attn_length=ATTN_LENGTH,state_is_tuple=True)\n",
    "            return attn_cell\n",
    "        \n",
    "        self.gru_cell = makeGRUCells()\n",
    "        self.zero_state = self.gru_cell.zero_state(1, tf.float32)\n",
    "        \n",
    "        self.start_state = tf.placeholder(dtype=tf.float32,shape=[1,self.gru_cell.state_size])\n",
    "        \n",
    "        \n",
    "\n",
    "        with tf.variable_scope(\"ff\",initializer=xavier_initializer(uniform=False)):\n",
    "            droped_input = tf.nn.dropout(self.input_data,keep_prob=self.dropout_prob)\n",
    "            \n",
    "            layer_1 = tf.contrib.layers.fully_connected(\n",
    "                num_outputs=FIRST_LAYER_SIZE,\n",
    "                inputs=droped_input,\n",
    "                \n",
    "            )\n",
    "            layer_2 = tf.contrib.layers.fully_connected(\n",
    "                num_outputs=RNN_HIDDEN_SIZE,\n",
    "                inputs=layer_1,\n",
    "                \n",
    "            )\n",
    "            \n",
    "        \n",
    "        split_inputs = tf.reshape(droped_input,shape=[1,BATCH_SIZE,num_features],name=\"reshape_l1\") # Each item in the batch is a time step, iterate through them\n",
    "        split_inputs = tf.unstack(split_inputs,axis=1,name=\"unpack_l1\")\n",
    "        states =[]\n",
    "        outputs =[]\n",
    "        with tf.variable_scope(\"rnn\",initializer=xavier_initializer(uniform=False)) as scope:\n",
    "            state = self.start_state\n",
    "            for i, inp in enumerate(split_inputs):\n",
    "                if i >0:\n",
    "                    scope.reuse_variables()\n",
    "                \n",
    "                output, state = self.gru_cell(inp, state)\n",
    "                states.append(state)\n",
    "                outputs.append(output)\n",
    "        self.end_state = states[-1]\n",
    "        outputs = tf.stack(outputs,axis=1) # Pack them back into a single tensor\n",
    "        outputs = tf.reshape(outputs,shape=[BATCH_SIZE,RNN_HIDDEN_SIZE])\n",
    "        self.logits = tf.contrib.layers.fully_connected(\n",
    "            num_outputs=num_classes,\n",
    "            inputs=outputs,\n",
    "            activation_fn=None\n",
    "        )\n",
    "\n",
    "            \n",
    "        with tf.variable_scope(\"loss\"):\n",
    "            self.penalties =    tf.reduce_sum([beta*tf.nn.l2_loss(var) for var in tf.trainable_variables()])\n",
    "\n",
    "            \n",
    "            self.losses = tf.nn.sparse_softmax_cross_entropy_with_logits(logits=self.logits,labels=self.target_data)\n",
    "            self.loss = tf.reduce_sum(self.losses + beta*self.penalties)\n",
    "        \n",
    "        with tf.name_scope(\"train_step\"):\n",
    "          opt = tf.train.AdamOptimizer(lr)\n",
    "          gvs = opt.compute_gradients(self.loss)\n",
    "          self.train_op = opt.apply_gradients(gvs, global_step=global_step)\n",
    "        \n",
    "        with tf.name_scope(\"predictions\"):\n",
    "            probs = tf.nn.softmax(self.logits)\n",
    "            self.predictions = tf.argmax(probs, 1)\n",
    "            correct_pred = tf.cast(tf.equal(self.predictions, tf.cast(self.target_data,tf.int64)),tf.float64)\n",
    "            self.accuracy = tf.reduce_mean(correct_pred)"
   ]
  },
  {
   "cell_type": "markdown",
   "metadata": {},
   "source": [
    "## Training the RNN"
   ]
  },
  {
   "cell_type": "code",
   "execution_count": 85,
   "metadata": {
    "collapsed": false,
    "scrolled": false
   },
   "outputs": [
    {
     "ename": "TypeError",
     "evalue": "int() argument must be a string, a bytes-like object or a number, not 'tuple'",
     "output_type": "error",
     "traceback": [
      "\u001b[0;31m---------------------------------------------------------------------------\u001b[0m",
      "\u001b[0;31mTypeError\u001b[0m                                 Traceback (most recent call last)",
      "\u001b[0;32m<ipython-input-85-528856338431>\u001b[0m in \u001b[0;36m<module>\u001b[0;34m()\u001b[0m\n\u001b[1;32m      1\u001b[0m \u001b[0;32mwith\u001b[0m \u001b[0mtf\u001b[0m\u001b[0;34m.\u001b[0m\u001b[0mGraph\u001b[0m\u001b[0;34m(\u001b[0m\u001b[0;34m)\u001b[0m\u001b[0;34m.\u001b[0m\u001b[0mas_default\u001b[0m\u001b[0;34m(\u001b[0m\u001b[0;34m)\u001b[0m\u001b[0;34m:\u001b[0m\u001b[0;34m\u001b[0m\u001b[0m\n\u001b[0;32m----> 2\u001b[0;31m     \u001b[0mmodel\u001b[0m \u001b[0;34m=\u001b[0m \u001b[0mRNNModel\u001b[0m\u001b[0;34m(\u001b[0m\u001b[0;34m)\u001b[0m\u001b[0;34m\u001b[0m\u001b[0m\n\u001b[0m\u001b[1;32m      3\u001b[0m     \u001b[0minput_\u001b[0m \u001b[0;34m=\u001b[0m \u001b[0mtrain\u001b[0m\u001b[0;34m[\u001b[0m\u001b[0;36m0\u001b[0m\u001b[0;34m]\u001b[0m\u001b[0;34m\u001b[0m\u001b[0m\n\u001b[1;32m      4\u001b[0m     \u001b[0mtarget\u001b[0m \u001b[0;34m=\u001b[0m \u001b[0mtrain\u001b[0m\u001b[0;34m[\u001b[0m\u001b[0;36m1\u001b[0m\u001b[0;34m]\u001b[0m\u001b[0;34m\u001b[0m\u001b[0m\n\u001b[1;32m      5\u001b[0m     \u001b[0;32mwith\u001b[0m \u001b[0mtf\u001b[0m\u001b[0;34m.\u001b[0m\u001b[0mSession\u001b[0m\u001b[0;34m(\u001b[0m\u001b[0;34m)\u001b[0m \u001b[0;32mas\u001b[0m \u001b[0msess\u001b[0m\u001b[0;34m:\u001b[0m\u001b[0;34m\u001b[0m\u001b[0m\n",
      "\u001b[0;32m<ipython-input-84-3d8f33342ecd>\u001b[0m in \u001b[0;36m__init__\u001b[0;34m(self)\u001b[0m\n\u001b[1;32m     15\u001b[0m         \u001b[0mself\u001b[0m\u001b[0;34m.\u001b[0m\u001b[0mzero_state\u001b[0m \u001b[0;34m=\u001b[0m \u001b[0mself\u001b[0m\u001b[0;34m.\u001b[0m\u001b[0mgru_cell\u001b[0m\u001b[0;34m.\u001b[0m\u001b[0mzero_state\u001b[0m\u001b[0;34m(\u001b[0m\u001b[0;36m1\u001b[0m\u001b[0;34m,\u001b[0m \u001b[0mtf\u001b[0m\u001b[0;34m.\u001b[0m\u001b[0mfloat32\u001b[0m\u001b[0;34m)\u001b[0m\u001b[0;34m\u001b[0m\u001b[0m\n\u001b[1;32m     16\u001b[0m \u001b[0;34m\u001b[0m\u001b[0m\n\u001b[0;32m---> 17\u001b[0;31m         \u001b[0mself\u001b[0m\u001b[0;34m.\u001b[0m\u001b[0mstart_state\u001b[0m \u001b[0;34m=\u001b[0m \u001b[0mtf\u001b[0m\u001b[0;34m.\u001b[0m\u001b[0mplaceholder\u001b[0m\u001b[0;34m(\u001b[0m\u001b[0mdtype\u001b[0m\u001b[0;34m=\u001b[0m\u001b[0mtf\u001b[0m\u001b[0;34m.\u001b[0m\u001b[0mfloat32\u001b[0m\u001b[0;34m,\u001b[0m\u001b[0mshape\u001b[0m\u001b[0;34m=\u001b[0m\u001b[0;34m[\u001b[0m\u001b[0;36m1\u001b[0m\u001b[0;34m,\u001b[0m\u001b[0mself\u001b[0m\u001b[0;34m.\u001b[0m\u001b[0mgru_cell\u001b[0m\u001b[0;34m.\u001b[0m\u001b[0mstate_size\u001b[0m\u001b[0;34m]\u001b[0m\u001b[0;34m)\u001b[0m\u001b[0;34m\u001b[0m\u001b[0m\n\u001b[0m\u001b[1;32m     18\u001b[0m \u001b[0;34m\u001b[0m\u001b[0m\n\u001b[1;32m     19\u001b[0m \u001b[0;34m\u001b[0m\u001b[0m\n",
      "\u001b[0;32m/Users/edwardkim/anaconda3/lib/python3.6/site-packages/tensorflow/python/ops/array_ops.py\u001b[0m in \u001b[0;36mplaceholder\u001b[0;34m(dtype, shape, name)\u001b[0m\n\u001b[1;32m   1497\u001b[0m     \u001b[0mevaluated\u001b[0m \u001b[0mdirectly\u001b[0m\u001b[0;34m.\u001b[0m\u001b[0;34m\u001b[0m\u001b[0m\n\u001b[1;32m   1498\u001b[0m   \"\"\"\n\u001b[0;32m-> 1499\u001b[0;31m   \u001b[0mshape\u001b[0m \u001b[0;34m=\u001b[0m \u001b[0mtensor_shape\u001b[0m\u001b[0;34m.\u001b[0m\u001b[0mas_shape\u001b[0m\u001b[0;34m(\u001b[0m\u001b[0mshape\u001b[0m\u001b[0;34m)\u001b[0m\u001b[0;34m\u001b[0m\u001b[0m\n\u001b[0m\u001b[1;32m   1500\u001b[0m   \u001b[0;32mif\u001b[0m \u001b[0mshape\u001b[0m\u001b[0;34m.\u001b[0m\u001b[0mis_fully_defined\u001b[0m\u001b[0;34m(\u001b[0m\u001b[0;34m)\u001b[0m\u001b[0;34m:\u001b[0m\u001b[0;34m\u001b[0m\u001b[0m\n\u001b[1;32m   1501\u001b[0m     \u001b[0mdim_list\u001b[0m \u001b[0;34m=\u001b[0m \u001b[0mshape\u001b[0m\u001b[0;34m.\u001b[0m\u001b[0mas_list\u001b[0m\u001b[0;34m(\u001b[0m\u001b[0;34m)\u001b[0m\u001b[0;34m\u001b[0m\u001b[0m\n",
      "\u001b[0;32m/Users/edwardkim/anaconda3/lib/python3.6/site-packages/tensorflow/python/framework/tensor_shape.py\u001b[0m in \u001b[0;36mas_shape\u001b[0;34m(shape)\u001b[0m\n\u001b[1;32m    798\u001b[0m     \u001b[0;32mreturn\u001b[0m \u001b[0mshape\u001b[0m\u001b[0;34m\u001b[0m\u001b[0m\n\u001b[1;32m    799\u001b[0m   \u001b[0;32melse\u001b[0m\u001b[0;34m:\u001b[0m\u001b[0;34m\u001b[0m\u001b[0m\n\u001b[0;32m--> 800\u001b[0;31m     \u001b[0;32mreturn\u001b[0m \u001b[0mTensorShape\u001b[0m\u001b[0;34m(\u001b[0m\u001b[0mshape\u001b[0m\u001b[0;34m)\u001b[0m\u001b[0;34m\u001b[0m\u001b[0m\n\u001b[0m\u001b[1;32m    801\u001b[0m \u001b[0;34m\u001b[0m\u001b[0m\n\u001b[1;32m    802\u001b[0m \u001b[0;34m\u001b[0m\u001b[0m\n",
      "\u001b[0;32m/Users/edwardkim/anaconda3/lib/python3.6/site-packages/tensorflow/python/framework/tensor_shape.py\u001b[0m in \u001b[0;36m__init__\u001b[0;34m(self, dims)\u001b[0m\n\u001b[1;32m    434\u001b[0m       \u001b[0;32melse\u001b[0m\u001b[0;34m:\u001b[0m\u001b[0;34m\u001b[0m\u001b[0m\n\u001b[1;32m    435\u001b[0m         \u001b[0;31m# Got a list of dimensions\u001b[0m\u001b[0;34m\u001b[0m\u001b[0;34m\u001b[0m\u001b[0m\n\u001b[0;32m--> 436\u001b[0;31m         \u001b[0mself\u001b[0m\u001b[0;34m.\u001b[0m\u001b[0m_dims\u001b[0m \u001b[0;34m=\u001b[0m \u001b[0;34m[\u001b[0m\u001b[0mas_dimension\u001b[0m\u001b[0;34m(\u001b[0m\u001b[0md\u001b[0m\u001b[0;34m)\u001b[0m \u001b[0;32mfor\u001b[0m \u001b[0md\u001b[0m \u001b[0;32min\u001b[0m \u001b[0mdims_iter\u001b[0m\u001b[0;34m]\u001b[0m\u001b[0;34m\u001b[0m\u001b[0m\n\u001b[0m\u001b[1;32m    437\u001b[0m \u001b[0;34m\u001b[0m\u001b[0m\n\u001b[1;32m    438\u001b[0m   \u001b[0;32mdef\u001b[0m \u001b[0m__repr__\u001b[0m\u001b[0;34m(\u001b[0m\u001b[0mself\u001b[0m\u001b[0;34m)\u001b[0m\u001b[0;34m:\u001b[0m\u001b[0;34m\u001b[0m\u001b[0m\n",
      "\u001b[0;32m/Users/edwardkim/anaconda3/lib/python3.6/site-packages/tensorflow/python/framework/tensor_shape.py\u001b[0m in \u001b[0;36m<listcomp>\u001b[0;34m(.0)\u001b[0m\n\u001b[1;32m    434\u001b[0m       \u001b[0;32melse\u001b[0m\u001b[0;34m:\u001b[0m\u001b[0;34m\u001b[0m\u001b[0m\n\u001b[1;32m    435\u001b[0m         \u001b[0;31m# Got a list of dimensions\u001b[0m\u001b[0;34m\u001b[0m\u001b[0;34m\u001b[0m\u001b[0m\n\u001b[0;32m--> 436\u001b[0;31m         \u001b[0mself\u001b[0m\u001b[0;34m.\u001b[0m\u001b[0m_dims\u001b[0m \u001b[0;34m=\u001b[0m \u001b[0;34m[\u001b[0m\u001b[0mas_dimension\u001b[0m\u001b[0;34m(\u001b[0m\u001b[0md\u001b[0m\u001b[0;34m)\u001b[0m \u001b[0;32mfor\u001b[0m \u001b[0md\u001b[0m \u001b[0;32min\u001b[0m \u001b[0mdims_iter\u001b[0m\u001b[0;34m]\u001b[0m\u001b[0;34m\u001b[0m\u001b[0m\n\u001b[0m\u001b[1;32m    437\u001b[0m \u001b[0;34m\u001b[0m\u001b[0m\n\u001b[1;32m    438\u001b[0m   \u001b[0;32mdef\u001b[0m \u001b[0m__repr__\u001b[0m\u001b[0;34m(\u001b[0m\u001b[0mself\u001b[0m\u001b[0;34m)\u001b[0m\u001b[0;34m:\u001b[0m\u001b[0;34m\u001b[0m\u001b[0m\n",
      "\u001b[0;32m/Users/edwardkim/anaconda3/lib/python3.6/site-packages/tensorflow/python/framework/tensor_shape.py\u001b[0m in \u001b[0;36mas_dimension\u001b[0;34m(value)\u001b[0m\n\u001b[1;32m    376\u001b[0m     \u001b[0;32mreturn\u001b[0m \u001b[0mvalue\u001b[0m\u001b[0;34m\u001b[0m\u001b[0m\n\u001b[1;32m    377\u001b[0m   \u001b[0;32melse\u001b[0m\u001b[0;34m:\u001b[0m\u001b[0;34m\u001b[0m\u001b[0m\n\u001b[0;32m--> 378\u001b[0;31m     \u001b[0;32mreturn\u001b[0m \u001b[0mDimension\u001b[0m\u001b[0;34m(\u001b[0m\u001b[0mvalue\u001b[0m\u001b[0;34m)\u001b[0m\u001b[0;34m\u001b[0m\u001b[0m\n\u001b[0m\u001b[1;32m    379\u001b[0m \u001b[0;34m\u001b[0m\u001b[0m\n\u001b[1;32m    380\u001b[0m \u001b[0;34m\u001b[0m\u001b[0m\n",
      "\u001b[0;32m/Users/edwardkim/anaconda3/lib/python3.6/site-packages/tensorflow/python/framework/tensor_shape.py\u001b[0m in \u001b[0;36m__init__\u001b[0;34m(self, value)\u001b[0m\n\u001b[1;32m     31\u001b[0m       \u001b[0mself\u001b[0m\u001b[0;34m.\u001b[0m\u001b[0m_value\u001b[0m \u001b[0;34m=\u001b[0m \u001b[0;32mNone\u001b[0m\u001b[0;34m\u001b[0m\u001b[0m\n\u001b[1;32m     32\u001b[0m     \u001b[0;32melse\u001b[0m\u001b[0;34m:\u001b[0m\u001b[0;34m\u001b[0m\u001b[0m\n\u001b[0;32m---> 33\u001b[0;31m       \u001b[0mself\u001b[0m\u001b[0;34m.\u001b[0m\u001b[0m_value\u001b[0m \u001b[0;34m=\u001b[0m \u001b[0mint\u001b[0m\u001b[0;34m(\u001b[0m\u001b[0mvalue\u001b[0m\u001b[0;34m)\u001b[0m\u001b[0;34m\u001b[0m\u001b[0m\n\u001b[0m\u001b[1;32m     34\u001b[0m       if (not isinstance(value, compat.bytes_or_text_types)\n\u001b[1;32m     35\u001b[0m           and self._value != value):\n",
      "\u001b[0;31mTypeError\u001b[0m: int() argument must be a string, a bytes-like object or a number, not 'tuple'"
     ]
    }
   ],
   "source": [
    "with tf.Graph().as_default():\n",
    "    model = RNNModel()\n",
    "    input_ = train[0]\n",
    "    target = train[1]\n",
    "    with tf.Session() as sess:\n",
    "        init = tf.initialize_all_variables()\n",
    "        sess.run([init])\n",
    "        loss = 2000\n",
    "        \n",
    "        for e in range(NUM_EPOCHS):\n",
    "            state = sess.run(model.zero_state)\n",
    "            epoch_loss =0\n",
    "            for batch in range(0,NUM_TRAIN_BATCHES):\n",
    "                start = batch*BATCH_SIZE\n",
    "                end = start + BATCH_SIZE \n",
    "                feed = {\n",
    "                    model.input_data:input_[start:end],\n",
    "                    model.target_data:target[start:end],\n",
    "                    model.dropout_prob:0.5,\n",
    "                    model.start_state:state\n",
    "                            }\n",
    "                _,loss,acc,state = sess.run(\n",
    "                    [\n",
    "                        model.train_op,\n",
    "                        model.loss,\n",
    "                        model.accuracy,\n",
    "                        model.end_state\n",
    "                    ]\n",
    "                    ,feed_dict=feed\n",
    "                )\n",
    "                epoch_loss+=loss\n",
    "                \n",
    "            print('step - {0} loss - {1} acc - {2}'.format((e),epoch_loss,acc))\n",
    "        final_preds =np.array([])\n",
    "        for batch in range(0,NUM_VAL_BATCHES):\n",
    "                start = batch*BATCH_SIZE\n",
    "                end = start + BATCH_SIZE \n",
    "                feed = {\n",
    "                    model.input_data:val[0][start:end],\n",
    "                    model.target_data:val[1][start:end],\n",
    "                    model.dropout_prob:1,\n",
    "                    model.start_state:state\n",
    "                            }\n",
    "                acc,preds,state = sess.run(\n",
    "                    [\n",
    "                        model.accuracy,\n",
    "                        model.predictions,\n",
    "                        model.end_state\n",
    "                    ]\n",
    "                    ,feed_dict=feed\n",
    "                )\n",
    "                print(acc)\n",
    "                assert len(preds) == BATCH_SIZE\n",
    "                final_preds = np.concatenate((final_preds,preds),axis=0)"
   ]
  },
  {
   "cell_type": "markdown",
   "metadata": {
    "collapsed": false
   },
   "source": [
    "## RNN Results"
   ]
  },
  {
   "cell_type": "code",
   "execution_count": null,
   "metadata": {
    "collapsed": false
   },
   "outputs": [],
   "source": [
    "Result['rnn_pred'] = final_preds\n",
    "Result['mod_rnn_prod'] = list(map(lambda x: -1 if x <5 else 0 if x==5 else 1,final_preds))\n",
    "Result['rnn_ret'] = Result.mod_rnn_prod*Result['return']"
   ]
  },
  {
   "cell_type": "code",
   "execution_count": null,
   "metadata": {
    "collapsed": false
   },
   "outputs": [],
   "source": [
    "print(confusion_matrix(Result['multi_class'],Result['rnn_pred']))\n",
    "print(classification_report(Result['class'],Result['mod_rnn_prod']))\n",
    "print(confusion_matrix(Result['class'],Result['mod_rnn_prod']))"
   ]
  },
  {
   "cell_type": "code",
   "execution_count": null,
   "metadata": {
    "collapsed": false
   },
   "outputs": [],
   "source": [
    "(96/(96+82) + 94/(77+94))/2"
   ]
  },
  {
   "cell_type": "code",
   "execution_count": null,
   "metadata": {
    "collapsed": false
   },
   "outputs": [],
   "source": [
    "Res = (Result[-test_size:][['return','nn_ret','rnn_ret','pred_return']]).cumsum()\n",
    "Res[0] =0\n",
    "Res.plot(figsize=(20,10))"
   ]
  },
  {
   "cell_type": "code",
   "execution_count": null,
   "metadata": {
    "collapsed": false
   },
   "outputs": [],
   "source": [
    "Res.columns =['Market Baseline','Simple Neural Newtwork','My Algo','Logistic Regression (simple ML)','Do Nothing(0)']\n",
    "Res.plot(figsize=(20,10),title=\"Performance of MarketVectors algo over 27 months compared with baselines\")"
   ]
  },
  {
   "cell_type": "code",
   "execution_count": null,
   "metadata": {
    "collapsed": false
   },
   "outputs": [],
   "source": [
    "Res.columns\n",
    "Res.columns =['baseline','logistic_regression','feed_forward_net','rnn_net','do_nothing']\n",
    "Res.plot(figsize=(20,10))"
   ]
  },
  {
   "cell_type": "code",
   "execution_count": null,
   "metadata": {
    "collapsed": false
   },
   "outputs": [],
   "source": [
    "from tensorflow.python.ops.rnn_cell import BasicLSTMCell, GRUCell, MultiRNNCell, DropoutWrapper\n",
    "cell = tf.nn.rnn_cell.GRUCell(num_units=RNN_HIDDEN_SIZE)\n",
    "cell = MultiRNNCell(cells=[cell]*NUM_LAYERS,state_is_tuple=True)\n",
    "attn_cell =tf.contrib.rnn.AttentionCellWrapper(cell=cell,attn_length=ATTN_LENGTH,state_is_tuple=True)\n",
    "print(attn_cell.zero_state(batch_size=1,dtype=tf.float32))"
   ]
  },
  {
   "cell_type": "code",
   "execution_count": null,
   "metadata": {
    "collapsed": false
   },
   "outputs": [],
   "source": [
    "model.start_state"
   ]
  },
  {
   "cell_type": "code",
   "execution_count": null,
   "metadata": {
    "collapsed": true
   },
   "outputs": [],
   "source": [
    "sess = tf.InteractiveSession()"
   ]
  },
  {
   "cell_type": "code",
   "execution_count": null,
   "metadata": {
    "collapsed": false
   },
   "outputs": [],
   "source": [
    "x = ([1,2,3,4],())\n",
    "y = sum([1,2,3],())\n",
    "type(())"
   ]
  },
  {
   "cell_type": "code",
   "execution_count": null,
   "metadata": {
    "collapsed": false
   },
   "outputs": [],
   "source": [
    "Labeled.hist(column='return',by='class')"
   ]
  },
  {
   "cell_type": "code",
   "execution_count": null,
   "metadata": {
    "collapsed": false
   },
   "outputs": [],
   "source": [
    "Result['class'].unique()"
   ]
  },
  {
   "cell_type": "code",
   "execution_count": null,
   "metadata": {
    "collapsed": false
   },
   "outputs": [],
   "source": [
    "import seaborn as sns\n",
    "g = sns.FacetGrid(Result, row=\"class\", col=\"rnn_pred\", margin_titles=True)\n",
    "g.map(sns.distplot, \"return\",);"
   ]
  },
  {
   "cell_type": "code",
   "execution_count": null,
   "metadata": {
    "collapsed": false
   },
   "outputs": [],
   "source": [
    "Result.hist(by=['class','nn_pred'],column='return',sharex=True)"
   ]
  },
  {
   "cell_type": "code",
   "execution_count": null,
   "metadata": {
    "collapsed": false
   },
   "outputs": [],
   "source": [
    "Result['zreturn'] = zscore(Result['return'])\n",
    "Result['day'] = Result.index.dayofweek\n",
    "sns.lmplot(data=Result,y='zreturn',x='nn_prediction_conf',hue='day',col='class',row='nn_pred',fit_reg=False)"
   ]
  },
  {
   "cell_type": "code",
   "execution_count": null,
   "metadata": {
    "collapsed": false
   },
   "outputs": [],
   "source": [
    "Result.index.dayofweek"
   ]
  },
  {
   "cell_type": "code",
   "execution_count": null,
   "metadata": {
    "collapsed": false
   },
   "outputs": [],
   "source": [
    "Res.rnn_ret.mean()/Res.rnn_ret.std()"
   ]
  },
  {
   "cell_type": "code",
   "execution_count": null,
   "metadata": {
    "collapsed": true
   },
   "outputs": [],
   "source": []
  },
  {
   "cell_type": "code",
   "execution_count": null,
   "metadata": {
    "collapsed": true
   },
   "outputs": [],
   "source": []
  },
  {
   "cell_type": "code",
   "execution_count": null,
   "metadata": {
    "collapsed": true
   },
   "outputs": [],
   "source": []
  },
  {
   "cell_type": "code",
   "execution_count": null,
   "metadata": {
    "collapsed": true
   },
   "outputs": [],
   "source": []
  }
 ],
 "metadata": {
  "kernelspec": {
   "display_name": "Python 2",
   "language": "python",
   "name": "python2"
  },
  "language_info": {
   "codemirror_mode": {
    "name": "ipython",
    "version": 2
   },
   "file_extension": ".py",
   "mimetype": "text/x-python",
   "name": "python",
   "nbconvert_exporter": "python",
   "pygments_lexer": "ipython2",
   "version": "2.7.11"
  }
 },
 "nbformat": 4,
 "nbformat_minor": 0
}
